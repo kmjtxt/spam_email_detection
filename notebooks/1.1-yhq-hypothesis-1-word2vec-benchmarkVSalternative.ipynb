{
 "cells": [
  {
   "cell_type": "markdown",
   "id": "81cc93f3",
   "metadata": {},
   "source": [
    "Addressing hypothesis 1 - Words may be used for different meanings in the different contexts (spam or non-spam)."
   ]
  },
  {
   "cell_type": "code",
   "execution_count": 1,
   "id": "52d5c358",
   "metadata": {},
   "outputs": [
    {
     "name": "stderr",
     "output_type": "stream",
     "text": [
      "c:\\Python312\\Lib\\site-packages\\requests\\__init__.py:86: RequestsDependencyWarning: Unable to find acceptable character detection dependency (chardet or charset_normalizer).\n",
      "  warnings.warn(\n"
     ]
    }
   ],
   "source": [
    "import pandas as pd\n",
    "import numpy as np\n",
    "from sklearn.feature_extraction.text import CountVectorizer\n",
    "from sklearn.linear_model import LogisticRegression\n",
    "from sklearn.pipeline import Pipeline\n",
    "from sklearn.metrics import accuracy_score, precision_score, recall_score, f1_score\n",
    "from sklearn.pipeline import FeatureUnion, Pipeline\n",
    "from sklearn.preprocessing import FunctionTransformer\n",
    "from gensim.models import Word2Vec\n",
    "from nltk.tokenize import word_tokenize"
   ]
  },
  {
   "cell_type": "code",
   "execution_count": 2,
   "id": "bde8045d",
   "metadata": {},
   "outputs": [
    {
     "name": "stdout",
     "output_type": "stream",
     "text": [
      "training dataset shape: (100737, 8)\n",
      "testing dataset shape: (25185, 8)\n"
     ]
    }
   ],
   "source": [
    "train_df = pd.read_csv(\"./data/processed/training.csv\")\n",
    "test_df = pd.read_csv(\"./data/processed/testing.csv\")\n",
    "print(f\"training dataset shape: {train_df.shape}\")\n",
    "print(f\"testing dataset shape: {test_df.shape}\")"
   ]
  },
  {
   "cell_type": "markdown",
   "id": "1ff55602",
   "metadata": {},
   "source": [
    "Benchmark: Logistic Regression with BoW"
   ]
  },
  {
   "cell_type": "code",
   "execution_count": 3,
   "id": "d0f67414",
   "metadata": {},
   "outputs": [
    {
     "name": "stdout",
     "output_type": "stream",
     "text": [
      "Accuracy:  0.983284\n",
      "Precision: 0.978607\n",
      "Recall:    0.986242\n",
      "F1 Score:  0.982409\n"
     ]
    }
   ],
   "source": [
    "# Build the pipeline: BoW + Logistic Regression\n",
    "pipeline = Pipeline([\n",
    "    (\"bow\", CountVectorizer()), # Converts text to BoW feature vectors\n",
    "    (\"classifier\", LogisticRegression(max_iter=1000))\n",
    "])\n",
    "\n",
    "# Train the model\n",
    "pipeline.fit(train_df['cleaned_body'], train_df['label'])\n",
    "\n",
    "# Predict and evaluate\n",
    "y_pred_bow_only = pipeline.predict(test_df['cleaned_body'])\n",
    "accuracy_bow_only = accuracy_score(test_df['label'], y_pred_bow_only)\n",
    "precision_bow_only = precision_score(test_df['label'], y_pred_bow_only)\n",
    "recall_bow_only = recall_score(test_df['label'], y_pred_bow_only)\n",
    "f1_bow_only = f1_score(test_df['label'], y_pred_bow_only)\n",
    "\n",
    "print(f\"Accuracy:  {accuracy_bow_only:.6f}\")\n",
    "print(f\"Precision: {precision_bow_only:.6f}\")\n",
    "print(f\"Recall:    {recall_bow_only:.6f}\")\n",
    "print(f\"F1 Score:  {f1_bow_only:.6f}\")"
   ]
  },
  {
   "cell_type": "markdown",
   "id": "c9e6c9ba",
   "metadata": {},
   "source": [
    "Alternative to test if word2vec feature is useful: Logistic Regression with BoW + word2vec"
   ]
  },
  {
   "cell_type": "code",
   "execution_count": 4,
   "id": "4c95a026",
   "metadata": {},
   "outputs": [
    {
     "name": "stdout",
     "output_type": "stream",
     "text": [
      "Accuracy:  0.982926\n",
      "Precision: 0.978351\n",
      "Recall:    0.985738\n",
      "F1 Score:  0.982031\n"
     ]
    }
   ],
   "source": [
    "# Tokenize training and testing text for Word2Vec\n",
    "X_train_tokens = [word_tokenize(text) for text in train_df['tokens']]\n",
    "\n",
    "# Train Word2Vec model on training tokens only\n",
    "w2v_model = Word2Vec(sentences=X_train_tokens, vector_size=100, window=5, min_count=1)\n",
    "\n",
    "# Function to compute average Word2Vec vector for a sentence\n",
    "def get_avg_w2v_features(texts, model, vector_size):\n",
    "    features = []\n",
    "    for text in texts:\n",
    "        tokens = word_tokenize(text)\n",
    "        valid_tokens = [t for t in tokens if t in model.wv]\n",
    "        if not valid_tokens:\n",
    "            features.append(np.zeros(vector_size))\n",
    "        else:\n",
    "            vec = np.mean([model.wv[t] for t in valid_tokens], axis=0)\n",
    "            features.append(vec)\n",
    "    return np.array(features)\n",
    "\n",
    "# FunctionTransformer for Word2Vec averaging\n",
    "w2v_transformer = FunctionTransformer(\n",
    "    lambda x: get_avg_w2v_features(x, w2v_model, 100),\n",
    "    validate=False\n",
    ")\n",
    "\n",
    "# Combine TF-IDF and Word2Vec features\n",
    "combined_features = FeatureUnion([\n",
    "    (\"bow\", Pipeline([(\"bow\", CountVectorizer())])),\n",
    "    (\"w2v\", Pipeline([(\"w2v\", w2v_transformer)]))\n",
    "])\n",
    "\n",
    "# Pipeline: feature extraction + classifier\n",
    "pipeline = Pipeline([\n",
    "    (\"features\", combined_features),\n",
    "    (\"classifier\", LogisticRegression(max_iter=1000))\n",
    "])\n",
    "\n",
    "# Fit on training set and evaluate on test set\n",
    "pipeline.fit(train_df['cleaned_body'], train_df['label'])\n",
    "y_pred = pipeline.predict(test_df['cleaned_body'])\n",
    "\n",
    "accuracy = accuracy_score(test_df['label'], y_pred)\n",
    "precision = precision_score(test_df['label'], y_pred)\n",
    "recall = recall_score(test_df['label'], y_pred)\n",
    "f1 = f1_score(test_df['label'], y_pred)\n",
    "\n",
    "print(f\"Accuracy:  {accuracy:.6f}\")\n",
    "print(f\"Precision: {precision:.6f}\")\n",
    "print(f\"Recall:    {recall:.6f}\")\n",
    "print(f\"F1 Score:  {f1:.6f}\")\n"
   ]
  },
  {
   "cell_type": "markdown",
   "id": "25ac3cff",
   "metadata": {},
   "source": [
    "The alternative model fared worse in all 4 performance metrics compared to the benchmark model.\n",
    "Let's take a closer look at why accounting for word semantics unexpectedly decreased model performance."
   ]
  },
  {
   "cell_type": "code",
   "execution_count": 5,
   "id": "ab671c72",
   "metadata": {},
   "outputs": [
    {
     "name": "stdout",
     "output_type": "stream",
     "text": [
      "Benchmark & Alternative models disagreed on these rows, resulting in df with shape: (35, 2)\n"
     ]
    },
    {
     "data": {
      "text/html": [
       "<div>\n",
       "<style scoped>\n",
       "    .dataframe tbody tr th:only-of-type {\n",
       "        vertical-align: middle;\n",
       "    }\n",
       "\n",
       "    .dataframe tbody tr th {\n",
       "        vertical-align: top;\n",
       "    }\n",
       "\n",
       "    .dataframe thead th {\n",
       "        text-align: right;\n",
       "    }\n",
       "</style>\n",
       "<table border=\"1\" class=\"dataframe\">\n",
       "  <thead>\n",
       "    <tr style=\"text-align: right;\">\n",
       "      <th></th>\n",
       "      <th>cleaned_body</th>\n",
       "      <th>label</th>\n",
       "      <th>baseline_predict</th>\n",
       "      <th>alternative_predict</th>\n",
       "    </tr>\n",
       "  </thead>\n",
       "  <tbody>\n",
       "    <tr>\n",
       "      <th>621</th>\n",
       "      <td>calger pastoria q q fountain valley eas delta ...</td>\n",
       "      <td>0</td>\n",
       "      <td>0</td>\n",
       "      <td>1</td>\n",
       "    </tr>\n",
       "    <tr>\n",
       "      <th>1602</th>\n",
       "      <td>bill is this the david gray you are going to s...</td>\n",
       "      <td>0</td>\n",
       "      <td>0</td>\n",
       "      <td>1</td>\n",
       "    </tr>\n",
       "    <tr>\n",
       "      <th>2026</th>\n",
       "      <td>so i tired grahams method first and got an err...</td>\n",
       "      <td>0</td>\n",
       "      <td>1</td>\n",
       "      <td>0</td>\n",
       "    </tr>\n",
       "    <tr>\n",
       "      <th>3109</th>\n",
       "      <td>new payroll review this is an automated email ...</td>\n",
       "      <td>1</td>\n",
       "      <td>1</td>\n",
       "      <td>0</td>\n",
       "    </tr>\n",
       "    <tr>\n",
       "      <th>3517</th>\n",
       "      <td>appears to have been resolved somewhere betwee...</td>\n",
       "      <td>0</td>\n",
       "      <td>1</td>\n",
       "      <td>0</td>\n",
       "    </tr>\n",
       "  </tbody>\n",
       "</table>\n",
       "</div>"
      ],
      "text/plain": [
       "                                           cleaned_body  label  \\\n",
       "621   calger pastoria q q fountain valley eas delta ...      0   \n",
       "1602  bill is this the david gray you are going to s...      0   \n",
       "2026  so i tired grahams method first and got an err...      0   \n",
       "3109  new payroll review this is an automated email ...      1   \n",
       "3517  appears to have been resolved somewhere betwee...      0   \n",
       "\n",
       "      baseline_predict  alternative_predict  \n",
       "621                  0                    1  \n",
       "1602                 0                    1  \n",
       "2026                 1                    0  \n",
       "3109                 1                    0  \n",
       "3517                 1                    0  "
      ]
     },
     "execution_count": 5,
     "metadata": {},
     "output_type": "execute_result"
    }
   ],
   "source": [
    "results_analysis_df = test_df[[\"cleaned_body\", \"label\"]]\n",
    "results_analysis_df = results_analysis_df[y_pred_bow_only != y_pred]\n",
    "print(f\"Benchmark & Alternative models disagreed on these rows, resulting in df with shape: {results_analysis_df.shape}\")\n",
    "results_analysis_df[\"baseline_predict\"] = y_pred_bow_only[y_pred_bow_only != y_pred]\n",
    "results_analysis_df[\"alternative_predict\"] = y_pred[y_pred_bow_only != y_pred]\n",
    "results_analysis_df.head()"
   ]
  },
  {
   "cell_type": "markdown",
   "id": "c98a71dc",
   "metadata": {},
   "source": [
    "We will filter for the rows where the benchmark model predicted correctly but the alternative model predicted wrongly. There are 22 of such rows."
   ]
  },
  {
   "cell_type": "code",
   "execution_count": 6,
   "id": "f2c1bab0",
   "metadata": {},
   "outputs": [
    {
     "data": {
      "text/plain": [
       "(22, 4)"
      ]
     },
     "execution_count": 6,
     "metadata": {},
     "output_type": "execute_result"
    }
   ],
   "source": [
    "results_analysis_df[(results_analysis_df[\"label\"] == results_analysis_df[\"baseline_predict\"])].shape"
   ]
  },
  {
   "cell_type": "markdown",
   "id": "f5aeab53",
   "metadata": {},
   "source": [
    "The following 3 email content are some example instances where the **baseline model correctly identified spam** but the alternative model misidentified.\n",
    "\n",
    "We observe that these content are spam mainly because of the repeated use of words which allowed the BoW-only model which keeps a count of words to fare better. As the usage of words were not typical of spam messages, the added word2vec feature in the alternative model may have led the model away from the correct answer. This shows that the information gleaned from analyzing word semantics may be limited in identifying content that is spam not due to its meaning but spam because of other reasons. "
   ]
  },
  {
   "cell_type": "code",
   "execution_count": 10,
   "id": "6983e05a",
   "metadata": {},
   "outputs": [
    {
     "name": "stdout",
     "output_type": "stream",
     "text": [
      "Example content 1: 'new payroll review this is an automated email please do not reply to this email invoice ticket new payroll structure payroll structurereview hrm would like you to kindly update your informations with the secure link below to receive new payroll update the new year program schedule for the year applicable to all staff admin on the payroll directory click on payroll to update now thank you itshelp desk new payroll review this is an automated email please do not reply to this email invoice ticket new payroll structure payroll structurereview hrm would like you to kindly update your informations with the secure link below to receive new payroll update the new year program schedule for the year applicable to all staff admin on the payroll directory click on payroll to update now thank you itshelp desk'\n",
      "Example content 2: 'and if any of you wish to be nickelplated my valet will do it free of all expense ae cf is ourfirst position then on a plane atapi is one of the many scsi physical transport layers i sign indicated they were now on the jicarilla apache in remember that the decryptor is at the end of the virus in the last few hundred bytes of the infected program when a breakpoint condition is detected and its associated ln flag is set a debug exception is generated you dont care that your mother died giving you life apparently the launch had arrived its a fairly transparent impelementation essentially overriding ctoolbar i think there is something missing in that gentlemans face if this occurs youll need to assign your tmp variable to a folder on a drive with more disk space then rerun the installati on he was sure the piece loial worked on had had branches at its top just like the others but now it stopped in a rounded end right above the ogiers head and she chose three r i will be condemned as well for having sold secret information to several governments the field is won birds fly out of here so why oh why oh why the hell cant i i only want varietynotoriety yahm presents my favorite feature set for hack manager if the return value is nonzero there is no group in the data base with group name name or the buffer buffer is too small to contain all the needed information boiled beans seasoned with their last tiny bit of bacon was dinner and it promised to be their breakfast too he had people who had people who had people who did things like that initializes a new instance of the class activating the client and server channels with default values in that way the only code ill have to reproduce in these installments will be the code that actually relates to the issue under discussion a brigand is an ax a bludgeon a mustache up to the ears a cleaver a lead pipe i offered ahmad gurgled what are you doing tonight'\n",
      "Example content 3: 'chfr climbs another as new distributors come on board china fruits corporation symbol chfr price up chfr is steady climbing this week as they announce their expansion with new distributors up monday and another tuesday this one is making investors steady money read the news and get on chfr first thing wednesday it is safe for the whole family org tuesday april th do you want fries with that project try it you might find something new considers articles onmusic trends features reviews and industrynews where gamers go to know reg file and answer yes when prompted to create your amazonbox fill in the form below is currently building their freelance pool now displays icon if there is a podcast associated with a feed item considers articles onmusic trends features reviews and industrynews if you pick all countries then leave a space between each countries associate id in the text field below for all six countries disk monitor monitor your drives with this system monitor htm publisher of educational and childrens nonfiction download now download klipfolio editors picks national geographic photo of the day unofficial displays the photo of the day of nationalgeographic download now download klipfolio editors picks national geographic photo of the day unofficial displays the photo of the day of nationalgeographic want to help spread the word the ebay authentication token should last about months before needing renewal amazon sidebar search amazon from the sidebar of either internet explorer opera seamonkey or firefox released firefox only version to create your amazonbox fill in the form below information is updated every minutes or by manual refresh bookmarks keep track of your online bookmarks if you pick all countries then leave a space between each countries associate id in the text field below b released version firefox users should only use search results format html see this bug you have reached an inactive blog information is updated every minutes or by manual refresh fill out the rest of the form and press submit released version if you let me know i will include a link to the new development website out of all those maybe a dozen represented factual reporting with any attempt at objectivity buys first broadcast rights amazon sidebar search amazon from the sidebar of either internet explorer opera seamonkey or firefox wolves storyblogging carnival wolves trudy w go to the desertlight journal for morecurrent posts on blogging and writing some of these plugins have been used as the basis for the official amazon search plugins installed within the official firefox builds supplied by the mozilla foundation ived added a small form to these ids to the amazonbox page wolves the perfect analogy wolves trudy w php national two minute radio program that features weather stories and features html straight forward easy to understand explaination and criteria for the fair use of copyrightedmaterials instapundit has a blogspot blog so i asked her your husband wouldnt ask you to live in a trailer park would he if you are a registered user you can create a private plugin which wont be added to the public list so it doesnt matter if the same plugin is already listed if you wish to have a customised firefox xpi then contact me site offers free forums newsletterssite appraisal and more released firefox only version'\n"
     ]
    }
   ],
   "source": [
    "actually_spam = results_analysis_df[(results_analysis_df[\"label\"] == results_analysis_df[\"baseline_predict\"]) & (results_analysis_df[\"label\"] == 1)]\n",
    "print(f\"Example content 1: '{actually_spam['cleaned_body'].iloc[0]}'\")\n",
    "print(f\"Example content 2: '{actually_spam['cleaned_body'].iloc[1]}'\")\n",
    "print(f\"Example content 3: '{actually_spam['cleaned_body'].iloc[3]}'\")"
   ]
  },
  {
   "cell_type": "markdown",
   "id": "89282157",
   "metadata": {},
   "source": [
    "The following 3 email content are some example instances where the **baseline model correctly identified non-spam** but the alternative model misidentified.\n",
    "\n",
    "We observe that a common pattern these non-spam content has is that they happen to be quite instructive and invites the reader to take actions like clicking or opening a file which is similar to spam-typical content. However, these were innocent requests that may some times be shared amongst friends. Unfortunately, certain harmless non-spam content may coincidentally use words in a manner similar to malicious spam content which swayed the alternative model in the wrong direction during prediction."
   ]
  },
  {
   "cell_type": "code",
   "execution_count": 13,
   "id": "fdbd7094",
   "metadata": {},
   "outputs": [
    {
     "name": "stdout",
     "output_type": "stream",
     "text": [
      "Example content 1: 'this paper examines four data protection strategies and compares their merits for the most common business continuance scenarios including providing high availability providing effective disaster recovery enhancing backup and restore and data migration projects use this as a great tool to help define the best data protection strategy for your customer using replication download now compliments of sunbelt software and infoworld if you do not wish to receive future mailings from infoworld online resources please click on the following link'\n",
      "Example content 2: 'the request has been completed with all resources requested either completed or rejected you can view the details of the request by clicking myreq'\n",
      "Example content 3: 'jonathan lang writes also why distinguish between open and opendir if the string is the name of a file open means open the file if it is the name of a directory open means open the directory many programs open a file from a name specified by the user even if c existed many programmers would surely continue to use c for this users being able to trick such programs into opening a directory rather than a file could be unpleasant smylers'\n"
     ]
    }
   ],
   "source": [
    "not_actually_spam = results_analysis_df[(results_analysis_df[\"label\"] == results_analysis_df[\"baseline_predict\"]) & (results_analysis_df[\"label\"] == 0)]\n",
    "print(f\"Example content 1: '{not_actually_spam['cleaned_body'].iloc[3]}'\")\n",
    "print(f\"Example content 2: '{not_actually_spam['cleaned_body'].iloc[6]}'\")\n",
    "print(f\"Example content 3: '{not_actually_spam['cleaned_body'].iloc[9]}'\")"
   ]
  }
 ],
 "metadata": {
  "kernelspec": {
   "display_name": "Python 3",
   "language": "python",
   "name": "python3"
  },
  "language_info": {
   "codemirror_mode": {
    "name": "ipython",
    "version": 3
   },
   "file_extension": ".py",
   "mimetype": "text/x-python",
   "name": "python",
   "nbconvert_exporter": "python",
   "pygments_lexer": "ipython3",
   "version": "3.12.6"
  }
 },
 "nbformat": 4,
 "nbformat_minor": 5
}
