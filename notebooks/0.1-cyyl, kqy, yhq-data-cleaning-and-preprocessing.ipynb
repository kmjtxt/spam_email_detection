{
 "cells": [
  {
   "cell_type": "markdown",
   "metadata": {},
   "source": [
    "## Data cleaning and preprocessing"
   ]
  },
  {
   "cell_type": "markdown",
   "metadata": {},
   "source": [
    "Data cleaning steps\n",
    "1. Clean body of each dataset, exctracting just the words\n",
    "2. Remove non-english rows using langdetect\n",
    "3. Combine all datasets\n",
    "\n",
    "We only combine in the last step as the datasets are large."
   ]
  },
  {
   "cell_type": "markdown",
   "metadata": {},
   "source": [
    "Note: files are imported from local folder, raw datasets are stored in google drive (https://drive.google.com/drive/folders/11juebPd9DGK0v2lUr5O6eddafeY73Ryk?usp=sharing)"
   ]
  },
  {
   "cell_type": "code",
   "execution_count": 1,
   "metadata": {},
   "outputs": [],
   "source": [
    "import pandas as pd\n",
    "import re"
   ]
  },
  {
   "cell_type": "code",
   "execution_count": 2,
   "metadata": {},
   "outputs": [],
   "source": [
    "def cleaning(text):\n",
    "\n",
    "    # Ensure correct data type\n",
    "    text = str(text) \n",
    "\n",
    "    # Lowercasing\n",
    "    text = text.lower()\n",
    "    \n",
    "    text = re.sub(r'^(from|to|cc|bcc|subject|sent|date):.*?\\n', '', text, flags=re.MULTILINE | re.IGNORECASE) # Remove email headers\n",
    "    text = re.sub(r\"https?://\\S+|www\\.\\S+\", \"\", text)  # Remove URLs\n",
    "    text = re.sub(r\"[^a-z\\s]\", \"\", text)  # Keep only alphabets and spaces (removes non-Latin characters like Chinese, Korean)\n",
    "    text = re.sub(\"\\n\", \" \", text) # Remove new line indicator\n",
    "    text = re.sub(r\"^(Subject: re :|Subject:)\\s*\", \"\", text) # Remove repetitive words\n",
    "    text = re.sub(r'\\s+', ' ', text).strip() # Remove excessive whitespace\n",
    "\n",
    "    return text"
   ]
  },
  {
   "cell_type": "code",
   "execution_count": 3,
   "metadata": {},
   "outputs": [],
   "source": [
    "from langdetect import detect\n",
    "from langdetect.lang_detect_exception import LangDetectException"
   ]
  },
  {
   "cell_type": "code",
   "execution_count": 4,
   "metadata": {},
   "outputs": [],
   "source": [
    "def get_language(text):\n",
    "    try:\n",
    "        cleaned_text = str(text).strip()\n",
    "        if not cleaned_text:\n",
    "            return 'empty' \n",
    "        lang = detect(cleaned_text)\n",
    "        return lang\n",
    "    \n",
    "    except LangDetectException:\n",
    "        # cannto detect language\n",
    "        return 'unknown'\n",
    "    \n",
    "    except Exception as e:\n",
    "        # in case of unexpected error\n",
    "        return 'error'"
   ]
  },
  {
   "cell_type": "code",
   "execution_count": 5,
   "metadata": {},
   "outputs": [],
   "source": [
    "df = pd.read_csv(\"../data/raw/emails.csv\")\n",
    "df['body'] = df['text']\n",
    "df['label'] = df['spam']\n",
    "df['cleaned_body'] = df['body'].apply(cleaning)\n",
    "df['language'] = df['cleaned_body'].apply(get_language)"
   ]
  },
  {
   "cell_type": "code",
   "execution_count": 6,
   "metadata": {},
   "outputs": [
    {
     "data": {
      "text/plain": [
       "language\n",
       "en    5680\n",
       "pl      27\n",
       "nl       4\n",
       "fr       3\n",
       "de       3\n",
       "pt       3\n",
       "es       2\n",
       "tr       1\n",
       "hr       1\n",
       "ro       1\n",
       "ca       1\n",
       "sv       1\n",
       "et       1\n",
       "Name: count, dtype: int64"
      ]
     },
     "execution_count": 6,
     "metadata": {},
     "output_type": "execute_result"
    }
   ],
   "source": [
    "df['language'].value_counts()"
   ]
  },
  {
   "cell_type": "code",
   "execution_count": 7,
   "metadata": {},
   "outputs": [
    {
     "data": {
      "text/html": [
       "<div>\n",
       "<style scoped>\n",
       "    .dataframe tbody tr th:only-of-type {\n",
       "        vertical-align: middle;\n",
       "    }\n",
       "\n",
       "    .dataframe tbody tr th {\n",
       "        vertical-align: top;\n",
       "    }\n",
       "\n",
       "    .dataframe thead th {\n",
       "        text-align: right;\n",
       "    }\n",
       "</style>\n",
       "<table border=\"1\" class=\"dataframe\">\n",
       "  <thead>\n",
       "    <tr style=\"text-align: right;\">\n",
       "      <th></th>\n",
       "      <th>text</th>\n",
       "      <th>spam</th>\n",
       "      <th>body</th>\n",
       "      <th>label</th>\n",
       "      <th>cleaned_body</th>\n",
       "      <th>language</th>\n",
       "    </tr>\n",
       "  </thead>\n",
       "  <tbody>\n",
       "    <tr>\n",
       "      <th>5115</th>\n",
       "      <td>Subject: grades  pam ,  another team :  elena ...</td>\n",
       "      <td>0</td>\n",
       "      <td>Subject: grades  pam ,  another team :  elena ...</td>\n",
       "      <td>0</td>\n",
       "      <td>subject grades pam another team elena chilkina...</td>\n",
       "      <td>sv</td>\n",
       "    </tr>\n",
       "    <tr>\n",
       "      <th>2759</th>\n",
       "      <td>Subject: hello vince ,  nie bardzo wiem czy pi...</td>\n",
       "      <td>0</td>\n",
       "      <td>Subject: hello vince ,  nie bardzo wiem czy pi...</td>\n",
       "      <td>0</td>\n",
       "      <td>subject hello vince nie bardzo wiem czy pisac ...</td>\n",
       "      <td>pl</td>\n",
       "    </tr>\n",
       "    <tr>\n",
       "      <th>1641</th>\n",
       "      <td>Subject: drogi vincenty . skoro ty byles na ty...</td>\n",
       "      <td>0</td>\n",
       "      <td>Subject: drogi vincenty . skoro ty byles na ty...</td>\n",
       "      <td>0</td>\n",
       "      <td>subject drogi vincenty skoro ty byles na tyle ...</td>\n",
       "      <td>pl</td>\n",
       "    </tr>\n",
       "    <tr>\n",
       "      <th>2450</th>\n",
       "      <td>Subject: aiesec polska - eurolds 2000  jarek ,...</td>\n",
       "      <td>0</td>\n",
       "      <td>Subject: aiesec polska - eurolds 2000  jarek ,...</td>\n",
       "      <td>0</td>\n",
       "      <td>subject aiesec polska eurolds jarek czy enron ...</td>\n",
       "      <td>pl</td>\n",
       "    </tr>\n",
       "    <tr>\n",
       "      <th>764</th>\n",
       "      <td>Subject: ) .  your message  subject : just to ...</td>\n",
       "      <td>1</td>\n",
       "      <td>Subject: ) .  your message  subject : just to ...</td>\n",
       "      <td>1</td>\n",
       "      <td>subject your message subject just to her was n...</td>\n",
       "      <td>fr</td>\n",
       "    </tr>\n",
       "  </tbody>\n",
       "</table>\n",
       "</div>"
      ],
      "text/plain": [
       "                                                   text  spam  \\\n",
       "5115  Subject: grades  pam ,  another team :  elena ...     0   \n",
       "2759  Subject: hello vince ,  nie bardzo wiem czy pi...     0   \n",
       "1641  Subject: drogi vincenty . skoro ty byles na ty...     0   \n",
       "2450  Subject: aiesec polska - eurolds 2000  jarek ,...     0   \n",
       "764   Subject: ) .  your message  subject : just to ...     1   \n",
       "\n",
       "                                                   body  label  \\\n",
       "5115  Subject: grades  pam ,  another team :  elena ...      0   \n",
       "2759  Subject: hello vince ,  nie bardzo wiem czy pi...      0   \n",
       "1641  Subject: drogi vincenty . skoro ty byles na ty...      0   \n",
       "2450  Subject: aiesec polska - eurolds 2000  jarek ,...      0   \n",
       "764   Subject: ) .  your message  subject : just to ...      1   \n",
       "\n",
       "                                           cleaned_body language  \n",
       "5115  subject grades pam another team elena chilkina...       sv  \n",
       "2759  subject hello vince nie bardzo wiem czy pisac ...       pl  \n",
       "1641  subject drogi vincenty skoro ty byles na tyle ...       pl  \n",
       "2450  subject aiesec polska eurolds jarek czy enron ...       pl  \n",
       "764   subject your message subject just to her was n...       fr  "
      ]
     },
     "execution_count": 7,
     "metadata": {},
     "output_type": "execute_result"
    }
   ],
   "source": [
    "df[df['language'] != 'en'].sample(5) # checking"
   ]
  },
  {
   "cell_type": "code",
   "execution_count": 8,
   "metadata": {},
   "outputs": [
    {
     "data": {
      "text/html": [
       "<div>\n",
       "<style scoped>\n",
       "    .dataframe tbody tr th:only-of-type {\n",
       "        vertical-align: middle;\n",
       "    }\n",
       "\n",
       "    .dataframe tbody tr th {\n",
       "        vertical-align: top;\n",
       "    }\n",
       "\n",
       "    .dataframe thead th {\n",
       "        text-align: right;\n",
       "    }\n",
       "</style>\n",
       "<table border=\"1\" class=\"dataframe\">\n",
       "  <thead>\n",
       "    <tr style=\"text-align: right;\">\n",
       "      <th></th>\n",
       "      <th>body</th>\n",
       "      <th>cleaned_body</th>\n",
       "      <th>label</th>\n",
       "    </tr>\n",
       "  </thead>\n",
       "  <tbody>\n",
       "    <tr>\n",
       "      <th>5621</th>\n",
       "      <td>Subject: new pc  lyn :  can you tell me the st...</td>\n",
       "      <td>subject new pc lyn can you tell me the status ...</td>\n",
       "      <td>0</td>\n",
       "    </tr>\n",
       "    <tr>\n",
       "      <th>4647</th>\n",
       "      <td>Subject: re : i am zhendong  sure thing !  - -...</td>\n",
       "      <td>subject re i am zhendong sure thing original m...</td>\n",
       "      <td>0</td>\n",
       "    </tr>\n",
       "  </tbody>\n",
       "</table>\n",
       "</div>"
      ],
      "text/plain": [
       "                                                   body  \\\n",
       "5621  Subject: new pc  lyn :  can you tell me the st...   \n",
       "4647  Subject: re : i am zhendong  sure thing !  - -...   \n",
       "\n",
       "                                           cleaned_body  label  \n",
       "5621  subject new pc lyn can you tell me the status ...      0  \n",
       "4647  subject re i am zhendong sure thing original m...      0  "
      ]
     },
     "execution_count": 8,
     "metadata": {},
     "output_type": "execute_result"
    }
   ],
   "source": [
    "df1 = df.loc[df['language'] == 'en', ['body','cleaned_body', 'label']]\n",
    "df1.sample(2)"
   ]
  },
  {
   "cell_type": "code",
   "execution_count": 9,
   "metadata": {},
   "outputs": [],
   "source": [
    "df = pd.read_csv(\"../data/raw/spam_ham_dataset.csv\")\n",
    "df['body'] = df['text']\n",
    "df['label'] = df['label_num']\n",
    "df['cleaned_body'] = df['body'].apply(cleaning)\n",
    "df['language'] = df['cleaned_body'].apply(get_language)"
   ]
  },
  {
   "cell_type": "code",
   "execution_count": 10,
   "metadata": {},
   "outputs": [
    {
     "data": {
      "text/plain": [
       "language\n",
       "en       4889\n",
       "empty     110\n",
       "ca         53\n",
       "es         24\n",
       "nl         24\n",
       "fr         13\n",
       "de          9\n",
       "cy          8\n",
       "cs          5\n",
       "so          4\n",
       "sk          4\n",
       "pt          3\n",
       "fi          3\n",
       "da          3\n",
       "it          3\n",
       "af          2\n",
       "pl          2\n",
       "hr          2\n",
       "et          2\n",
       "sl          2\n",
       "id          1\n",
       "lt          1\n",
       "sv          1\n",
       "sw          1\n",
       "hu          1\n",
       "sq          1\n",
       "Name: count, dtype: int64"
      ]
     },
     "execution_count": 10,
     "metadata": {},
     "output_type": "execute_result"
    }
   ],
   "source": [
    "df['language'].value_counts()"
   ]
  },
  {
   "cell_type": "code",
   "execution_count": 11,
   "metadata": {},
   "outputs": [
    {
     "data": {
      "text/html": [
       "<div>\n",
       "<style scoped>\n",
       "    .dataframe tbody tr th:only-of-type {\n",
       "        vertical-align: middle;\n",
       "    }\n",
       "\n",
       "    .dataframe tbody tr th {\n",
       "        vertical-align: top;\n",
       "    }\n",
       "\n",
       "    .dataframe thead th {\n",
       "        text-align: right;\n",
       "    }\n",
       "</style>\n",
       "<table border=\"1\" class=\"dataframe\">\n",
       "  <thead>\n",
       "    <tr style=\"text-align: right;\">\n",
       "      <th></th>\n",
       "      <th>Unnamed: 0</th>\n",
       "      <th>label</th>\n",
       "      <th>text</th>\n",
       "      <th>label_num</th>\n",
       "      <th>body</th>\n",
       "      <th>cleaned_body</th>\n",
       "      <th>language</th>\n",
       "    </tr>\n",
       "  </thead>\n",
       "  <tbody>\n",
       "    <tr>\n",
       "      <th>3933</th>\n",
       "      <td>4241</td>\n",
       "      <td>1</td>\n",
       "      <td>Subject: you can be smart !\\r\\n</td>\n",
       "      <td>1</td>\n",
       "      <td>Subject: you can be smart !\\r\\n</td>\n",
       "      <td></td>\n",
       "      <td>empty</td>\n",
       "    </tr>\n",
       "    <tr>\n",
       "      <th>2844</th>\n",
       "      <td>5077</td>\n",
       "      <td>1</td>\n",
       "      <td>Subject: ? ? ? ? 13 ? ? ? ? ? ? ? * ? * ? * ?\\...</td>\n",
       "      <td>1</td>\n",
       "      <td>Subject: ? ? ? ? 13 ? ? ? ? ? ? ? * ? * ? * ?\\...</td>\n",
       "      <td></td>\n",
       "      <td>empty</td>\n",
       "    </tr>\n",
       "  </tbody>\n",
       "</table>\n",
       "</div>"
      ],
      "text/plain": [
       "      Unnamed: 0  label                                               text  \\\n",
       "3933        4241      1                    Subject: you can be smart !\\r\\n   \n",
       "2844        5077      1  Subject: ? ? ? ? 13 ? ? ? ? ? ? ? * ? * ? * ?\\...   \n",
       "\n",
       "      label_num                                               body  \\\n",
       "3933          1                    Subject: you can be smart !\\r\\n   \n",
       "2844          1  Subject: ? ? ? ? 13 ? ? ? ? ? ? ? * ? * ? * ?\\...   \n",
       "\n",
       "     cleaned_body language  \n",
       "3933                 empty  \n",
       "2844                 empty  "
      ]
     },
     "execution_count": 11,
     "metadata": {},
     "output_type": "execute_result"
    }
   ],
   "source": [
    "df[df['language'] == 'empty'].sample(2) # we can see that the cleaned body is empty as the body only had subject without content so we can remove them"
   ]
  },
  {
   "cell_type": "code",
   "execution_count": 12,
   "metadata": {},
   "outputs": [
    {
     "data": {
      "text/html": [
       "<div>\n",
       "<style scoped>\n",
       "    .dataframe tbody tr th:only-of-type {\n",
       "        vertical-align: middle;\n",
       "    }\n",
       "\n",
       "    .dataframe tbody tr th {\n",
       "        vertical-align: top;\n",
       "    }\n",
       "\n",
       "    .dataframe thead th {\n",
       "        text-align: right;\n",
       "    }\n",
       "</style>\n",
       "<table border=\"1\" class=\"dataframe\">\n",
       "  <thead>\n",
       "    <tr style=\"text-align: right;\">\n",
       "      <th></th>\n",
       "      <th>body</th>\n",
       "      <th>cleaned_body</th>\n",
       "      <th>label</th>\n",
       "    </tr>\n",
       "  </thead>\n",
       "  <tbody>\n",
       "    <tr>\n",
       "      <th>3245</th>\n",
       "      <td>Subject: strapon fucked cunt lickin dyke .\\r\\n...</td>\n",
       "      <td>she especially loves black penis that can bang...</td>\n",
       "      <td>1</td>\n",
       "    </tr>\n",
       "    <tr>\n",
       "      <th>3478</th>\n",
       "      <td>Subject: re : patchs work better then pillz\\r\\...</td>\n",
       "      <td>worlds first dermal p atch technology for p ni...</td>\n",
       "      <td>1</td>\n",
       "    </tr>\n",
       "  </tbody>\n",
       "</table>\n",
       "</div>"
      ],
      "text/plain": [
       "                                                   body  \\\n",
       "3245  Subject: strapon fucked cunt lickin dyke .\\r\\n...   \n",
       "3478  Subject: re : patchs work better then pillz\\r\\...   \n",
       "\n",
       "                                           cleaned_body  label  \n",
       "3245  she especially loves black penis that can bang...      1  \n",
       "3478  worlds first dermal p atch technology for p ni...      1  "
      ]
     },
     "execution_count": 12,
     "metadata": {},
     "output_type": "execute_result"
    }
   ],
   "source": [
    "df2 = df.loc[df['language'] == 'en', ['body','cleaned_body', 'label']] # removes all entries that are not english\n",
    "df2.sample(2)"
   ]
  },
  {
   "cell_type": "code",
   "execution_count": 13,
   "metadata": {},
   "outputs": [],
   "source": [
    "df = pd.concat([df1,df2], ignore_index=True)\n",
    "\n",
    "lst_standard_datasets = [\"CEAS_08.csv\", \"Enron.csv\", \"Ling.csv\", \"SpamAssasin.csv\", \"TREC_07.csv\", \"Nigerian_5.csv\", \"Nazario_5.csv\"]\n",
    "\n",
    "for dataset in lst_standard_datasets:\n",
    "    temp_df = pd.read_csv(\"../data/raw/\"+dataset)[['body','label']]\n",
    "    temp_df['cleaned_body'] = temp_df['body'].apply(cleaning)\n",
    "    temp_df['language'] = temp_df['cleaned_body'].apply(get_language)\n",
    "    df = pd.concat([df, temp_df.loc[temp_df['language'] == 'en', ['body', 'cleaned_body', 'label']]], ignore_index=True)"
   ]
  },
  {
   "cell_type": "code",
   "execution_count": 14,
   "metadata": {},
   "outputs": [
    {
     "name": "stdout",
     "output_type": "stream",
     "text": [
      "<class 'pandas.core.frame.DataFrame'>\n",
      "RangeIndex: 149395 entries, 0 to 149394\n",
      "Data columns (total 3 columns):\n",
      " #   Column        Non-Null Count   Dtype \n",
      "---  ------        --------------   ----- \n",
      " 0   body          149395 non-null  object\n",
      " 1   cleaned_body  149395 non-null  object\n",
      " 2   label         149395 non-null  int64 \n",
      "dtypes: int64(1), object(2)\n",
      "memory usage: 3.4+ MB\n"
     ]
    }
   ],
   "source": [
    "df.info()"
   ]
  },
  {
   "cell_type": "code",
   "execution_count": 15,
   "metadata": {},
   "outputs": [
    {
     "data": {
      "text/html": [
       "<div>\n",
       "<style scoped>\n",
       "    .dataframe tbody tr th:only-of-type {\n",
       "        vertical-align: middle;\n",
       "    }\n",
       "\n",
       "    .dataframe tbody tr th {\n",
       "        vertical-align: top;\n",
       "    }\n",
       "\n",
       "    .dataframe thead th {\n",
       "        text-align: right;\n",
       "    }\n",
       "</style>\n",
       "<table border=\"1\" class=\"dataframe\">\n",
       "  <thead>\n",
       "    <tr style=\"text-align: right;\">\n",
       "      <th></th>\n",
       "      <th>body</th>\n",
       "      <th>cleaned_body</th>\n",
       "      <th>label</th>\n",
       "    </tr>\n",
       "  </thead>\n",
       "  <tbody>\n",
       "    <tr>\n",
       "      <th>126042</th>\n",
       "      <td>Looking for some help here you perl geniuses y...</td>\n",
       "      <td>looking for some help here you perl geniuses y...</td>\n",
       "      <td>0</td>\n",
       "    </tr>\n",
       "    <tr>\n",
       "      <th>99870</th>\n",
       "      <td>I tried with R-2.4.1 and R-2.5.0 - it works fo...</td>\n",
       "      <td>i tried with r and r it works for me can you p...</td>\n",
       "      <td>0</td>\n",
       "    </tr>\n",
       "    <tr>\n",
       "      <th>123060</th>\n",
       "      <td>There are a couple of ways but I think you nee...</td>\n",
       "      <td>there are a couple of ways but i think you nee...</td>\n",
       "      <td>0</td>\n",
       "    </tr>\n",
       "    <tr>\n",
       "      <th>142651</th>\n",
       "      <td>FROM THE DESK OF:\\nBARRISTER AMINU KANO\\nPRICI...</td>\n",
       "      <td>from the desk of barrister aminu kano pricipal...</td>\n",
       "      <td>1</td>\n",
       "    </tr>\n",
       "    <tr>\n",
       "      <th>140357</th>\n",
       "      <td>Hey Harry,\\n\\nHere are the hydro plant capacit...</td>\n",
       "      <td>hey harry here are the hydro plant capacities ...</td>\n",
       "      <td>0</td>\n",
       "    </tr>\n",
       "  </tbody>\n",
       "</table>\n",
       "</div>"
      ],
      "text/plain": [
       "                                                     body  \\\n",
       "126042  Looking for some help here you perl geniuses y...   \n",
       "99870   I tried with R-2.4.1 and R-2.5.0 - it works fo...   \n",
       "123060  There are a couple of ways but I think you nee...   \n",
       "142651  FROM THE DESK OF:\\nBARRISTER AMINU KANO\\nPRICI...   \n",
       "140357  Hey Harry,\\n\\nHere are the hydro plant capacit...   \n",
       "\n",
       "                                             cleaned_body  label  \n",
       "126042  looking for some help here you perl geniuses y...      0  \n",
       "99870   i tried with r and r it works for me can you p...      0  \n",
       "123060  there are a couple of ways but i think you nee...      0  \n",
       "142651  from the desk of barrister aminu kano pricipal...      1  \n",
       "140357  hey harry here are the hydro plant capacities ...      0  "
      ]
     },
     "execution_count": 15,
     "metadata": {},
     "output_type": "execute_result"
    }
   ],
   "source": [
    "df.sample(5)"
   ]
  },
  {
   "cell_type": "code",
   "execution_count": 16,
   "metadata": {},
   "outputs": [
    {
     "data": {
      "text/plain": [
       "body            0\n",
       "cleaned_body    0\n",
       "label           0\n",
       "dtype: int64"
      ]
     },
     "execution_count": 16,
     "metadata": {},
     "output_type": "execute_result"
    }
   ],
   "source": [
    "df.isna().sum()"
   ]
  },
  {
   "cell_type": "code",
   "execution_count": 17,
   "metadata": {},
   "outputs": [
    {
     "data": {
      "text/plain": [
       "23387"
      ]
     },
     "execution_count": 17,
     "metadata": {},
     "output_type": "execute_result"
    }
   ],
   "source": [
    "df['cleaned_body'].duplicated().sum()"
   ]
  },
  {
   "cell_type": "code",
   "execution_count": 18,
   "metadata": {},
   "outputs": [
    {
     "data": {
      "text/plain": [
       "0"
      ]
     },
     "execution_count": 18,
     "metadata": {},
     "output_type": "execute_result"
    }
   ],
   "source": [
    "df.drop_duplicates(subset = ['cleaned_body'], inplace=True)\n",
    "df['cleaned_body'].duplicated().sum()"
   ]
  },
  {
   "cell_type": "markdown",
   "metadata": {},
   "source": [
    "Data preprocessing steps\n",
    "1. Tokenization\n",
    "2. Remove stopwords\n",
    "3. Lemmatization\n",
    "-- we choose to perform lemmatization instead of stemming to identify the original meaning of the word"
   ]
  },
  {
   "cell_type": "code",
   "execution_count": 19,
   "metadata": {},
   "outputs": [],
   "source": [
    "import nltk\n",
    "import re\n",
    "from nltk.tokenize import word_tokenize\n",
    "from nltk.corpus import stopwords\n",
    "from nltk.stem import WordNetLemmatizer"
   ]
  },
  {
   "cell_type": "code",
   "execution_count": 20,
   "metadata": {},
   "outputs": [
    {
     "data": {
      "text/html": [
       "<div>\n",
       "<style scoped>\n",
       "    .dataframe tbody tr th:only-of-type {\n",
       "        vertical-align: middle;\n",
       "    }\n",
       "\n",
       "    .dataframe tbody tr th {\n",
       "        vertical-align: top;\n",
       "    }\n",
       "\n",
       "    .dataframe thead th {\n",
       "        text-align: right;\n",
       "    }\n",
       "</style>\n",
       "<table border=\"1\" class=\"dataframe\">\n",
       "  <thead>\n",
       "    <tr style=\"text-align: right;\">\n",
       "      <th></th>\n",
       "      <th>body</th>\n",
       "      <th>cleaned_body</th>\n",
       "      <th>label</th>\n",
       "    </tr>\n",
       "  </thead>\n",
       "  <tbody>\n",
       "    <tr>\n",
       "      <th>109828</th>\n",
       "      <td>Hire,\\ni am here sitting in the internet caffe...</td>\n",
       "      <td>hire i am here sitting in the internet caffe f...</td>\n",
       "      <td>1</td>\n",
       "    </tr>\n",
       "    <tr>\n",
       "      <th>84599</th>\n",
       "      <td>On Mon, 2002-07-22 at 06:50, che wrote: &gt; that...</td>\n",
       "      <td>on mon at che wrote thats the correct lines to...</td>\n",
       "      <td>0</td>\n",
       "    </tr>\n",
       "    <tr>\n",
       "      <th>110901</th>\n",
       "      <td>Come into a great modify on your Meds\\n\\nsafe ...</td>\n",
       "      <td>come into a great modify on your meds safe typ...</td>\n",
       "      <td>1</td>\n",
       "    </tr>\n",
       "    <tr>\n",
       "      <th>84180</th>\n",
       "      <td>Udhay Shankar N wrote:\\n &gt; Heh. The name of th...</td>\n",
       "      <td>udhay shankar n wrote heh the name of the band...</td>\n",
       "      <td>0</td>\n",
       "    </tr>\n",
       "    <tr>\n",
       "      <th>25281</th>\n",
       "      <td>\\nDelightful replica watches at Replica Classi...</td>\n",
       "      <td>delightful replica watches at replica classics...</td>\n",
       "      <td>1</td>\n",
       "    </tr>\n",
       "  </tbody>\n",
       "</table>\n",
       "</div>"
      ],
      "text/plain": [
       "                                                     body  \\\n",
       "109828  Hire,\\ni am here sitting in the internet caffe...   \n",
       "84599   On Mon, 2002-07-22 at 06:50, che wrote: > that...   \n",
       "110901  Come into a great modify on your Meds\\n\\nsafe ...   \n",
       "84180   Udhay Shankar N wrote:\\n > Heh. The name of th...   \n",
       "25281   \\nDelightful replica watches at Replica Classi...   \n",
       "\n",
       "                                             cleaned_body  label  \n",
       "109828  hire i am here sitting in the internet caffe f...      1  \n",
       "84599   on mon at che wrote thats the correct lines to...      0  \n",
       "110901  come into a great modify on your meds safe typ...      1  \n",
       "84180   udhay shankar n wrote heh the name of the band...      0  \n",
       "25281   delightful replica watches at replica classics...      1  "
      ]
     },
     "execution_count": 20,
     "metadata": {},
     "output_type": "execute_result"
    }
   ],
   "source": [
    "subject_start = df['cleaned_body'].str.startswith('subject')\n",
    "df.loc[subject_start, 'cleaned_body'] = df.loc[subject_start, 'cleaned_body'].apply(lambda x: x[len('subject'):].lstrip())\n",
    "df.sample(5)"
   ]
  },
  {
   "cell_type": "code",
   "execution_count": 21,
   "metadata": {},
   "outputs": [
    {
     "data": {
      "text/plain": [
       "5502"
      ]
     },
     "execution_count": 21,
     "metadata": {},
     "output_type": "execute_result"
    }
   ],
   "source": [
    "subject_start.sum()"
   ]
  },
  {
   "cell_type": "code",
   "execution_count": 22,
   "metadata": {},
   "outputs": [],
   "source": [
    "stop_words = set(stopwords.words(\"english\"))\n",
    "lemmatizer = WordNetLemmatizer()\n",
    "\n",
    "def preprocess(text):\n",
    "    words = word_tokenize(text)\n",
    "    \n",
    "    # Remove stopwords\n",
    "    words = [word for word in words if word not in stop_words]\n",
    "    \n",
    "    # Lemmatization\n",
    "    words = [lemmatizer.lemmatize(word) for word in words]\n",
    "\n",
    "    return words\n",
    "\n",
    "df['tokens'] = df['cleaned_body'].apply(preprocess)"
   ]
  },
  {
   "cell_type": "code",
   "execution_count": 23,
   "metadata": {},
   "outputs": [
    {
     "data": {
      "text/html": [
       "<div>\n",
       "<style scoped>\n",
       "    .dataframe tbody tr th:only-of-type {\n",
       "        vertical-align: middle;\n",
       "    }\n",
       "\n",
       "    .dataframe tbody tr th {\n",
       "        vertical-align: top;\n",
       "    }\n",
       "\n",
       "    .dataframe thead th {\n",
       "        text-align: right;\n",
       "    }\n",
       "</style>\n",
       "<table border=\"1\" class=\"dataframe\">\n",
       "  <thead>\n",
       "    <tr style=\"text-align: right;\">\n",
       "      <th></th>\n",
       "      <th>body</th>\n",
       "      <th>cleaned_body</th>\n",
       "      <th>label</th>\n",
       "      <th>tokens</th>\n",
       "    </tr>\n",
       "  </thead>\n",
       "  <tbody>\n",
       "    <tr>\n",
       "      <th>103795</th>\n",
       "      <td>\\n\\n\\nCBSNews.com\\n\\n\\n\\n\\n\\n\\nMay 1, 2007\\n\\n...</td>\n",
       "      <td>cbsnewscom may home us world politics scitech ...</td>\n",
       "      <td>0</td>\n",
       "      <td>[cbsnewscom, may, home, u, world, politics, sc...</td>\n",
       "    </tr>\n",
       "    <tr>\n",
       "      <th>137248</th>\n",
       "      <td>\\n\\n\\n\\nWhile     we  may  have    high     ex...</td>\n",
       "      <td>while we may have high expectations of our ass...</td>\n",
       "      <td>1</td>\n",
       "      <td>[may, high, expectation, associate, also, give...</td>\n",
       "    </tr>\n",
       "    <tr>\n",
       "      <th>109308</th>\n",
       "      <td>----------------------------------------------...</td>\n",
       "      <td>revno revisionid tridgesambaorgxpdpemxn parent...</td>\n",
       "      <td>0</td>\n",
       "      <td>[revno, revisionid, tridgesambaorgxpdpemxn, pa...</td>\n",
       "    </tr>\n",
       "    <tr>\n",
       "      <th>20815</th>\n",
       "      <td>On 16/02/2008, Russ Fineman  wrote:\\n&gt; SUSE 10...</td>\n",
       "      <td>on russ fineman wrote suse i just updated my k...</td>\n",
       "      <td>0</td>\n",
       "      <td>[rus, fineman, wrote, suse, updated, kernel, s...</td>\n",
       "    </tr>\n",
       "    <tr>\n",
       "      <th>6636</th>\n",
       "      <td>Subject: best free adult dating\\r\\nsearch for ...</td>\n",
       "      <td>search for sexual partners in your areaclick h...</td>\n",
       "      <td>1</td>\n",
       "      <td>[search, sexual, partner, areaclick]</td>\n",
       "    </tr>\n",
       "  </tbody>\n",
       "</table>\n",
       "</div>"
      ],
      "text/plain": [
       "                                                     body  \\\n",
       "103795  \\n\\n\\nCBSNews.com\\n\\n\\n\\n\\n\\n\\nMay 1, 2007\\n\\n...   \n",
       "137248  \\n\\n\\n\\nWhile     we  may  have    high     ex...   \n",
       "109308  ----------------------------------------------...   \n",
       "20815   On 16/02/2008, Russ Fineman  wrote:\\n> SUSE 10...   \n",
       "6636    Subject: best free adult dating\\r\\nsearch for ...   \n",
       "\n",
       "                                             cleaned_body  label  \\\n",
       "103795  cbsnewscom may home us world politics scitech ...      0   \n",
       "137248  while we may have high expectations of our ass...      1   \n",
       "109308  revno revisionid tridgesambaorgxpdpemxn parent...      0   \n",
       "20815   on russ fineman wrote suse i just updated my k...      0   \n",
       "6636    search for sexual partners in your areaclick h...      1   \n",
       "\n",
       "                                                   tokens  \n",
       "103795  [cbsnewscom, may, home, u, world, politics, sc...  \n",
       "137248  [may, high, expectation, associate, also, give...  \n",
       "109308  [revno, revisionid, tridgesambaorgxpdpemxn, pa...  \n",
       "20815   [rus, fineman, wrote, suse, updated, kernel, s...  \n",
       "6636                 [search, sexual, partner, areaclick]  "
      ]
     },
     "execution_count": 23,
     "metadata": {},
     "output_type": "execute_result"
    }
   ],
   "source": [
    "df.sample(5)"
   ]
  },
  {
   "cell_type": "code",
   "execution_count": 24,
   "metadata": {},
   "outputs": [
    {
     "data": {
      "text/plain": [
       "label\n",
       "0    66378\n",
       "1    59630\n",
       "Name: count, dtype: int64"
      ]
     },
     "execution_count": 24,
     "metadata": {},
     "output_type": "execute_result"
    }
   ],
   "source": [
    "df['label'].value_counts()"
   ]
  },
  {
   "cell_type": "markdown",
   "metadata": {},
   "source": [
    "## Feature 1: BoW + Tf-idf\n",
    "\n",
    "Code taken from BoW + Tf-idf feature engineering file"
   ]
  },
  {
   "cell_type": "code",
   "execution_count": 25,
   "metadata": {},
   "outputs": [],
   "source": [
    "from sklearn.feature_extraction.text import CountVectorizer, TfidfVectorizer\n",
    "import ast\n",
    "import numpy as np"
   ]
  },
  {
   "cell_type": "code",
   "execution_count": 26,
   "metadata": {},
   "outputs": [],
   "source": [
    "full_df = df.copy()"
   ]
  },
  {
   "cell_type": "code",
   "execution_count": 27,
   "metadata": {},
   "outputs": [
    {
     "name": "stdout",
     "output_type": "stream",
     "text": [
      "(126008, 10000)\n"
     ]
    }
   ],
   "source": [
    "full_df['tokens_str'] = full_df['tokens'].apply(lambda x:\" \".join(x))\n",
    "\n",
    "bow_vectorizer = CountVectorizer(stop_words='english', max_features= 10000, min_df=4, ngram_range =(1,3),token_pattern=r'\\b[a-zA-Z]{3,15}\\b')\n",
    "X_bow = bow_vectorizer.fit_transform(full_df['tokens_str'])\n",
    "print(X_bow.shape)\n",
    "bow_features = bow_vectorizer.get_feature_names_out()"
   ]
  },
  {
   "cell_type": "code",
   "execution_count": 28,
   "metadata": {},
   "outputs": [
    {
     "name": "stdout",
     "output_type": "stream",
     "text": [
      "email          63454\n",
      "enron          63007\n",
      "new            56919\n",
      "time           50895\n",
      "list           48658\n",
      "company        47877\n",
      "ect            45245\n",
      "message        42643\n",
      "like           42115\n",
      "use            40848\n",
      "need           38122\n",
      "price          37832\n",
      "information    37780\n",
      "work           36379\n",
      "make           35338\n",
      "know           34815\n",
      "day            33694\n",
      "business       31780\n",
      "file           31550\n",
      "year           31034\n",
      "dtype: int64\n"
     ]
    }
   ],
   "source": [
    "bow_counts = np.asarray(X_bow.sum(axis=0)).flatten()\n",
    "bow_freq = pd.Series(bow_counts, index=bow_features).sort_values(ascending=False)\n",
    "print(bow_freq.head(20))"
   ]
  },
  {
   "cell_type": "code",
   "execution_count": 29,
   "metadata": {},
   "outputs": [
    {
     "name": "stdout",
     "output_type": "stream",
     "text": [
      "email      2173.334595\n",
      "list       1804.921308\n",
      "new        1590.860337\n",
      "like       1576.355593\n",
      "time       1569.681647\n",
      "price      1549.608836\n",
      "enron      1535.675549\n",
      "watch      1505.761320\n",
      "message    1476.386464\n",
      "wrote      1468.642353\n",
      "need       1409.921733\n",
      "use        1401.670394\n",
      "know       1391.239837\n",
      "work       1327.393787\n",
      "day        1325.160336\n",
      "ect        1314.986902\n",
      "com        1298.686251\n",
      "file       1295.099809\n",
      "thanks     1285.478434\n",
      "mailing    1277.643382\n",
      "dtype: float64\n"
     ]
    },
    {
     "data": {
      "text/plain": [
       "make change                   51.736497\n",
       "dealt                         49.251190\n",
       "invalid                       62.409306\n",
       "joining                       49.410435\n",
       "dedicated                     62.226352\n",
       "great time                    57.931440\n",
       "released                     213.177958\n",
       "dragon                        18.224059\n",
       "president bush                47.067570\n",
       "web post                       5.148311\n",
       "sfnet email sponsored         97.836951\n",
       "forward seeing                33.875843\n",
       "announced additional          16.513531\n",
       "spend way like                41.417685\n",
       "winbindd                      26.443813\n",
       "beginner                      33.786181\n",
       "enron research                25.757158\n",
       "total submission               7.521733\n",
       "failed                       235.452556\n",
       "unset                         35.571142\n",
       "term california epmi           6.207684\n",
       "company                     1088.342140\n",
       "support private customer      16.431868\n",
       "bullish                      170.645109\n",
       "phone mobile                 113.609086\n",
       "greater                      107.210338\n",
       "strange                       91.991582\n",
       "said company                  12.461744\n",
       "empire                        48.798704\n",
       "jotti submission note          0.491631\n",
       "dtype: float64"
      ]
     },
     "execution_count": 29,
     "metadata": {},
     "output_type": "execute_result"
    }
   ],
   "source": [
    "tfidf_vectorizer = TfidfVectorizer(stop_words='english',max_features=10000,min_df=4,ngram_range=(1, 3),token_pattern=r'\\b[a-zA-Z]{3,15}\\b')\n",
    "X_tfidf = tfidf_vectorizer.fit_transform(full_df['tokens_str'])\n",
    "tfidf_features = tfidf_vectorizer.get_feature_names_out()\n",
    "\n",
    "tfidf_sum = np.asarray(X_tfidf.sum(axis=0)).flatten()\n",
    "\n",
    "tfidf_scores = pd.Series(tfidf_sum, index = tfidf_features).sort_values(ascending=False)\n",
    "\n",
    "print(tfidf_scores.head(20))\n",
    "tfidf_scores.sample(30)"
   ]
  },
  {
   "cell_type": "code",
   "execution_count": 30,
   "metadata": {},
   "outputs": [
    {
     "name": "stdout",
     "output_type": "stream",
     "text": [
      "             BoW Frequency  TF-IDF Score\n",
      "email                63454   2173.334595\n",
      "enron                63007   1535.675549\n",
      "new                  56919   1590.860337\n",
      "time                 50895   1569.681647\n",
      "list                 48658   1804.921308\n",
      "company              47877   1088.342140\n",
      "ect                  45245   1314.986902\n",
      "message              42643   1476.386464\n",
      "like                 42115   1576.355593\n",
      "use                  40848   1401.670394\n",
      "need                 38122   1409.921733\n",
      "price                37832   1549.608836\n",
      "information          37780   1127.387070\n",
      "work                 36379   1327.393787\n",
      "make                 35338   1228.701996\n",
      "know                 34815   1391.239837\n",
      "day                  33694   1325.160336\n",
      "business             31780    921.072173\n",
      "file                 31550   1295.099809\n",
      "year                 31034    912.352302\n"
     ]
    }
   ],
   "source": [
    "combined_features = pd.concat([bow_freq, tfidf_scores], axis = 1)\n",
    "\n",
    "combined_features.columns = ['BoW Frequency', 'TF-IDF Score']\n",
    "\n",
    "combined_features = combined_features.sort_values(by='BoW Frequency', ascending=False)\n",
    "combined_features.to_csv('../data/processed/combined_features_bow_tfidf.csv')\n",
    "print(combined_features.head(20))"
   ]
  },
  {
   "cell_type": "code",
   "execution_count": 31,
   "metadata": {},
   "outputs": [],
   "source": [
    "from scipy.sparse import hstack "
   ]
  },
  {
   "cell_type": "code",
   "execution_count": 32,
   "metadata": {},
   "outputs": [],
   "source": [
    "X_btf = hstack([\n",
    "    X_bow,\n",
    "    X_tfidf\n",
    "])"
   ]
  },
  {
   "cell_type": "markdown",
   "metadata": {},
   "source": [
    "## Feature 2: N-grams + Tf-idf\n",
    "Code taken from N-grams feature engineering file"
   ]
  },
  {
   "cell_type": "code",
   "execution_count": 34,
   "metadata": {},
   "outputs": [],
   "source": [
    "X_text = full_df['cleaned_body']"
   ]
  },
  {
   "cell_type": "code",
   "execution_count": 36,
   "metadata": {},
   "outputs": [],
   "source": [
    "# excluded trigrams for performance\n",
    "word_vectorizer_tfidf = TfidfVectorizer(ngram_range=(1, 2), max_features=1000, stop_words='english', min_df = 5, max_df = 0.8, sublinear_tf=True) \n",
    "X_word_grams_tfidf = word_vectorizer_tfidf.fit_transform(X_text)"
   ]
  },
  {
   "cell_type": "code",
   "execution_count": 37,
   "metadata": {},
   "outputs": [],
   "source": [
    "char_vectorizer_tfidf = TfidfVectorizer(analyzer='char', ngram_range=(3, 5), max_features=500, min_df = 10, max_df = 0.7, sublinear_tf=True)\n",
    "X_char_grams_tfidf = char_vectorizer_tfidf.fit_transform(X_text)"
   ]
  },
  {
   "cell_type": "code",
   "execution_count": 38,
   "metadata": {},
   "outputs": [],
   "source": [
    "X_full = hstack([\n",
    "    X_btf,\n",
    "    X_word_grams_tfidf,\n",
    "    X_char_grams_tfidf\n",
    "])"
   ]
  },
  {
   "cell_type": "code",
   "execution_count": 40,
   "metadata": {},
   "outputs": [
    {
     "data": {
      "text/plain": [
       "matrix([[0.        , 0.        , 0.        , ..., 0.06496826, 0.09413251,\n",
       "         0.09717517],\n",
       "        [0.        , 0.        , 0.        , ..., 0.        , 0.        ,\n",
       "         0.        ],\n",
       "        [0.        , 0.        , 0.        , ..., 0.134829  , 0.0606428 ,\n",
       "         0.06260296],\n",
       "        [0.        , 0.        , 0.        , ..., 0.        , 0.        ,\n",
       "         0.        ],\n",
       "        [0.        , 0.        , 0.        , ..., 0.        , 0.        ,\n",
       "         0.        ]])"
      ]
     },
     "execution_count": 40,
     "metadata": {},
     "output_type": "execute_result"
    }
   ],
   "source": [
    "X_full[:5].todense()\n"
   ]
  },
  {
   "cell_type": "markdown",
   "metadata": {},
   "source": [
    "Split into training and testing sets"
   ]
  },
  {
   "cell_type": "code",
   "execution_count": 41,
   "metadata": {},
   "outputs": [],
   "source": [
    "y = full_df['label']"
   ]
  },
  {
   "cell_type": "code",
   "execution_count": null,
   "metadata": {},
   "outputs": [
    {
     "name": "stdout",
     "output_type": "stream",
     "text": [
      "Shape of X_full: (126008, 21500)\n",
      "Shape of y: (126008,)\n"
     ]
    }
   ],
   "source": [
    "# checking\n",
    "print(\"Shape of X_full:\", X_full.shape) \n",
    "print(\"Shape of y:\", y.shape)            "
   ]
  },
  {
   "cell_type": "code",
   "execution_count": 44,
   "metadata": {},
   "outputs": [],
   "source": [
    "from sklearn.model_selection import train_test_split"
   ]
  },
  {
   "cell_type": "code",
   "execution_count": 46,
   "metadata": {},
   "outputs": [],
   "source": [
    "X_train, X_test, y_train, y_test = train_test_split(X_full, y, test_size=0.2, random_state=4263, stratify=y)"
   ]
  },
  {
   "cell_type": "code",
   "execution_count": 47,
   "metadata": {},
   "outputs": [],
   "source": [
    "from scipy.sparse import save_npz\n",
    "\n",
    "# Save the sparse feature matrices in .npz format\n",
    "save_npz(\"X_train_sparse.npz\", X_train)\n",
    "save_npz(\"X_test_sparse.npz\", X_test)\n",
    "\n",
    "# Save the labels in .npy format\n",
    "np.save(\"y_train.npy\", y_train)\n",
    "np.save(\"y_test.npy\", y_test)"
   ]
  },
  {
   "cell_type": "code",
   "execution_count": 33,
   "metadata": {},
   "outputs": [],
   "source": [
    "import seaborn as sns\n",
    "import matplotlib.pyplot as plt"
   ]
  },
  {
   "cell_type": "code",
   "execution_count": null,
   "metadata": {},
   "outputs": [
    {
     "data": {
      "image/png": "[encoded data removed]",
      "text/plain": [
       "<Figure size 640x480 with 1 Axes>"
      ]
     },
     "metadata": {},
     "output_type": "display_data"
    }
   ],
   "source": [
    "count = y_train.value_counts()\n",
    "labels = {0:'non-spam', 1:'spam'}\n",
    "\n",
    "ax = sns.barplot(x = labels, y = count).set_title(\"Class balance in training data\")"
   ]
  },
  {
   "cell_type": "code",
   "execution_count": null,
   "metadata": {},
   "outputs": [
    {
     "data": {
      "image/png": "[encoded data removed]",
      "text/plain": [
       "<Figure size 640x480 with 1 Axes>"
      ]
     },
     "metadata": {},
     "output_type": "display_data"
    }
   ],
   "source": [
    "count = y_test.value_counts()\n",
    "labels = {0:'non-spam', 1:'spam'}\n",
    "\n",
    "ax = sns.barplot(x = labels, y = count).set_title(\"Class balance in testing data\")"
   ]
  },
  {
   "cell_type": "code",
   "execution_count": null,
   "metadata": {},
   "outputs": [
    {
     "name": "stdout",
     "output_type": "stream",
     "text": [
      "Shape of X_train: (100806, 21500)\n",
      "Shape of y_train: (100806,)\n",
      "Shape of X_test: (25202, 21500)\n",
      "Shape of y_test: (25202,)\n"
     ]
    }
   ],
   "source": [
    "print(\"Shape of X_train:\", X_train.shape)\n",
    "print(\"Shape of y_train:\", y_train.shape)\n",
    "print(\"Shape of X_test:\", X_test.shape)\n",
    "print(\"Shape of y_test:\", y_test.shape)"
   ]
  }
 ],
 "metadata": {
  "kernelspec": {
   "display_name": "base",
   "language": "python",
   "name": "python3"
  },
  "language_info": {
   "codemirror_mode": {
    "name": "ipython",
    "version": 3
   },
   "file_extension": ".py",
   "mimetype": "text/x-python",
   "name": "python",
   "nbconvert_exporter": "python",
   "pygments_lexer": "ipython3",
   "version": "3.12.7"
  }
 },
 "nbformat": 4,
 "nbformat_minor": 2
}
