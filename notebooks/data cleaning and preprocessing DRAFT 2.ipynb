{
 "cells": [
  {
   "cell_type": "markdown",
   "metadata": {},
   "source": [
    "## Data cleaning and preprocessing"
   ]
  },
  {
   "cell_type": "markdown",
   "metadata": {},
   "source": [
    "Data cleaning steps\n",
    "1. Clean body of each dataset, exctracting just the words\n",
    "2. Remove non-english rows using langdetect\n",
    "3. Combine all datasets\n",
    "\n",
    "We only combine in the last step as the datasets are large."
   ]
  },
  {
   "cell_type": "code",
   "execution_count": 1,
   "metadata": {},
   "outputs": [],
   "source": [
    "import pandas as pd\n",
    "import re"
   ]
  },
  {
   "cell_type": "code",
   "execution_count": 2,
   "metadata": {},
   "outputs": [],
   "source": [
    "def cleaning(text):\n",
    "\n",
    "    # Ensure correct data type\n",
    "    text = str(text) \n",
    "\n",
    "    # Lowercasing\n",
    "    text = text.lower()\n",
    "    \n",
    "    text = re.sub(r'^(from|to|cc|bcc|subject|sent|date):.*?\\n', '', text, flags=re.MULTILINE | re.IGNORECASE) # Remove email headers\n",
    "    text = re.sub(r\"https?://\\S+|www\\.\\S+\", \"\", text)  # Remove URLs\n",
    "    text = re.sub(r\"^(subject: re :|subject:)\\s*\", \"\", text) # Remove repetitive words\n",
    "    text = re.sub(r\"[^a-z\\s]\", \"\", text)  # Keep only alphabets and spaces (removes non-Latin characters like Chinese, Korean)\n",
    "    text = re.sub(\"\\n\", \" \", text) # Remove new line indicator\n",
    "    text = re.sub(r'\\s+', ' ', text).strip() # Remove excessive whitespace\n",
    "\n",
    "    return text"
   ]
  },
  {
   "cell_type": "code",
   "execution_count": 3,
   "metadata": {},
   "outputs": [],
   "source": [
    "# pip install langdetect"
   ]
  },
  {
   "cell_type": "code",
   "execution_count": 4,
   "metadata": {},
   "outputs": [],
   "source": [
    "from langdetect import detect\n",
    "from langdetect.lang_detect_exception import LangDetectException"
   ]
  },
  {
   "cell_type": "code",
   "execution_count": 5,
   "metadata": {},
   "outputs": [],
   "source": [
    "def get_language(text):\n",
    "    try:\n",
    "        cleaned_text = str(text).strip()\n",
    "        if not cleaned_text:\n",
    "            return 'empty' \n",
    "        lang = detect(cleaned_text)\n",
    "        return lang\n",
    "    \n",
    "    except LangDetectException:\n",
    "        # cannto detect language\n",
    "        return 'unknown'\n",
    "    \n",
    "    except Exception as e:\n",
    "        # in case of unexpected error\n",
    "        return 'error'"
   ]
  },
  {
   "cell_type": "code",
   "execution_count": 6,
   "metadata": {},
   "outputs": [],
   "source": [
    "df = pd.read_csv(\"../data/raw/emails.csv\")\n",
    "df['body'] = df['text']\n",
    "df['label'] = df['spam']\n",
    "df['cleaned_body'] = df['body'].apply(cleaning)\n",
    "df['language'] = df['cleaned_body'].apply(get_language)"
   ]
  },
  {
   "cell_type": "code",
   "execution_count": 7,
   "metadata": {},
   "outputs": [
    {
     "data": {
      "text/plain": [
       "language\n",
       "en    5673\n",
       "pl      27\n",
       "nl       5\n",
       "fr       4\n",
       "de       3\n",
       "pt       3\n",
       "it       2\n",
       "sw       2\n",
       "es       2\n",
       "tr       1\n",
       "cy       1\n",
       "no       1\n",
       "ca       1\n",
       "af       1\n",
       "sv       1\n",
       "sl       1\n",
       "Name: count, dtype: int64"
      ]
     },
     "execution_count": 7,
     "metadata": {},
     "output_type": "execute_result"
    }
   ],
   "source": [
    "df['language'].value_counts()"
   ]
  },
  {
   "cell_type": "code",
   "execution_count": 8,
   "metadata": {},
   "outputs": [
    {
     "data": {
      "text/html": [
       "<div>\n",
       "<style scoped>\n",
       "    .dataframe tbody tr th:only-of-type {\n",
       "        vertical-align: middle;\n",
       "    }\n",
       "\n",
       "    .dataframe tbody tr th {\n",
       "        vertical-align: top;\n",
       "    }\n",
       "\n",
       "    .dataframe thead th {\n",
       "        text-align: right;\n",
       "    }\n",
       "</style>\n",
       "<table border=\"1\" class=\"dataframe\">\n",
       "  <thead>\n",
       "    <tr style=\"text-align: right;\">\n",
       "      <th></th>\n",
       "      <th>text</th>\n",
       "      <th>spam</th>\n",
       "      <th>body</th>\n",
       "      <th>label</th>\n",
       "      <th>cleaned_body</th>\n",
       "      <th>language</th>\n",
       "    </tr>\n",
       "  </thead>\n",
       "  <tbody>\n",
       "    <tr>\n",
       "      <th>592</th>\n",
       "      <td>Subject: free lancer eventos  free lancer even...</td>\n",
       "      <td>1</td>\n",
       "      <td>Subject: free lancer eventos  free lancer even...</td>\n",
       "      <td>1</td>\n",
       "      <td>free lancer eventos free lancer eventos servio...</td>\n",
       "      <td>pt</td>\n",
       "    </tr>\n",
       "    <tr>\n",
       "      <th>5696</th>\n",
       "      <td>Subject: re : lunch  super . jestesmy umowieni...</td>\n",
       "      <td>0</td>\n",
       "      <td>Subject: re : lunch  super . jestesmy umowieni...</td>\n",
       "      <td>0</td>\n",
       "      <td>lunch super jestesmy umowieni juliusz vince j ...</td>\n",
       "      <td>pl</td>\n",
       "    </tr>\n",
       "    <tr>\n",
       "      <th>115</th>\n",
       "      <td>Subject: fw :  i ' m unwell . in 1839 not at a...</td>\n",
       "      <td>1</td>\n",
       "      <td>Subject: fw :  i ' m unwell . in 1839 not at a...</td>\n",
       "      <td>1</td>\n",
       "      <td>fw i m unwell in not at all soccerwe are here ...</td>\n",
       "      <td>it</td>\n",
       "    </tr>\n",
       "    <tr>\n",
       "      <th>3783</th>\n",
       "      <td>Subject: lunch  dzien dobry ,  mam nadzieje , ...</td>\n",
       "      <td>0</td>\n",
       "      <td>Subject: lunch  dzien dobry ,  mam nadzieje , ...</td>\n",
       "      <td>0</td>\n",
       "      <td>lunch dzien dobry mam nadzieje ze nic sie nie ...</td>\n",
       "      <td>pl</td>\n",
       "    </tr>\n",
       "    <tr>\n",
       "      <th>431</th>\n",
       "      <td>Subject: kime oy vereceksiniz ?  ?yi g?nler  d...</td>\n",
       "      <td>1</td>\n",
       "      <td>Subject: kime oy vereceksiniz ?  ?yi g?nler  d...</td>\n",
       "      <td>1</td>\n",
       "      <td>kime oy vereceksiniz yi gnler dnya gazetesi ii...</td>\n",
       "      <td>tr</td>\n",
       "    </tr>\n",
       "  </tbody>\n",
       "</table>\n",
       "</div>"
      ],
      "text/plain": [
       "                                                   text  spam  \\\n",
       "592   Subject: free lancer eventos  free lancer even...     1   \n",
       "5696  Subject: re : lunch  super . jestesmy umowieni...     0   \n",
       "115   Subject: fw :  i ' m unwell . in 1839 not at a...     1   \n",
       "3783  Subject: lunch  dzien dobry ,  mam nadzieje , ...     0   \n",
       "431   Subject: kime oy vereceksiniz ?  ?yi g?nler  d...     1   \n",
       "\n",
       "                                                   body  label  \\\n",
       "592   Subject: free lancer eventos  free lancer even...      1   \n",
       "5696  Subject: re : lunch  super . jestesmy umowieni...      0   \n",
       "115   Subject: fw :  i ' m unwell . in 1839 not at a...      1   \n",
       "3783  Subject: lunch  dzien dobry ,  mam nadzieje , ...      0   \n",
       "431   Subject: kime oy vereceksiniz ?  ?yi g?nler  d...      1   \n",
       "\n",
       "                                           cleaned_body language  \n",
       "592   free lancer eventos free lancer eventos servio...       pt  \n",
       "5696  lunch super jestesmy umowieni juliusz vince j ...       pl  \n",
       "115   fw i m unwell in not at all soccerwe are here ...       it  \n",
       "3783  lunch dzien dobry mam nadzieje ze nic sie nie ...       pl  \n",
       "431   kime oy vereceksiniz yi gnler dnya gazetesi ii...       tr  "
      ]
     },
     "execution_count": 8,
     "metadata": {},
     "output_type": "execute_result"
    }
   ],
   "source": [
    "df[df['language'] != 'en'].sample(5) # checking"
   ]
  },
  {
   "cell_type": "code",
   "execution_count": 9,
   "metadata": {},
   "outputs": [
    {
     "data": {
      "text/html": [
       "<div>\n",
       "<style scoped>\n",
       "    .dataframe tbody tr th:only-of-type {\n",
       "        vertical-align: middle;\n",
       "    }\n",
       "\n",
       "    .dataframe tbody tr th {\n",
       "        vertical-align: top;\n",
       "    }\n",
       "\n",
       "    .dataframe thead th {\n",
       "        text-align: right;\n",
       "    }\n",
       "</style>\n",
       "<table border=\"1\" class=\"dataframe\">\n",
       "  <thead>\n",
       "    <tr style=\"text-align: right;\">\n",
       "      <th></th>\n",
       "      <th>body</th>\n",
       "      <th>cleaned_body</th>\n",
       "      <th>label</th>\n",
       "    </tr>\n",
       "  </thead>\n",
       "  <tbody>\n",
       "    <tr>\n",
       "      <th>1430</th>\n",
       "      <td>Subject: \" we are one @ enron . com ! \" : fina...</td>\n",
       "      <td>we are one enron com final notice please be aw...</td>\n",
       "      <td>0</td>\n",
       "    </tr>\n",
       "    <tr>\n",
       "      <th>3306</th>\n",
       "      <td>Subject: re : confirm participation at real op...</td>\n",
       "      <td>confirm participation at real options conferen...</td>\n",
       "      <td>0</td>\n",
       "    </tr>\n",
       "  </tbody>\n",
       "</table>\n",
       "</div>"
      ],
      "text/plain": [
       "                                                   body  \\\n",
       "1430  Subject: \" we are one @ enron . com ! \" : fina...   \n",
       "3306  Subject: re : confirm participation at real op...   \n",
       "\n",
       "                                           cleaned_body  label  \n",
       "1430  we are one enron com final notice please be aw...      0  \n",
       "3306  confirm participation at real options conferen...      0  "
      ]
     },
     "execution_count": 9,
     "metadata": {},
     "output_type": "execute_result"
    }
   ],
   "source": [
    "df1 = df.loc[df['language'] == 'en', ['body','cleaned_body', 'label']]\n",
    "df1.sample(2)"
   ]
  },
  {
   "cell_type": "code",
   "execution_count": 10,
   "metadata": {},
   "outputs": [],
   "source": [
    "df = pd.read_csv(\"../data/raw/spam_ham_dataset.csv\")\n",
    "df['body'] = df['text']\n",
    "df['label'] = df['label_num']\n",
    "df['cleaned_body'] = df['body'].apply(cleaning)\n",
    "df['language'] = df['cleaned_body'].apply(get_language)"
   ]
  },
  {
   "cell_type": "code",
   "execution_count": 11,
   "metadata": {},
   "outputs": [
    {
     "data": {
      "text/plain": [
       "language\n",
       "en       4890\n",
       "empty     110\n",
       "ca         55\n",
       "es         25\n",
       "nl         22\n",
       "fr         12\n",
       "de          9\n",
       "cy          8\n",
       "pl          4\n",
       "cs          4\n",
       "sl          3\n",
       "sk          3\n",
       "it          3\n",
       "pt          3\n",
       "fi          3\n",
       "so          3\n",
       "sv          2\n",
       "da          2\n",
       "hr          2\n",
       "et          2\n",
       "id          1\n",
       "lt          1\n",
       "af          1\n",
       "ro          1\n",
       "sw          1\n",
       "hu          1\n",
       "Name: count, dtype: int64"
      ]
     },
     "execution_count": 11,
     "metadata": {},
     "output_type": "execute_result"
    }
   ],
   "source": [
    "df['language'].value_counts()"
   ]
  },
  {
   "cell_type": "code",
   "execution_count": 12,
   "metadata": {},
   "outputs": [
    {
     "data": {
      "text/plain": [
       "'Subject: discreet cheapest pr ! escription d \\\\ rugs online !\\r\\n'"
      ]
     },
     "execution_count": 12,
     "metadata": {},
     "output_type": "execute_result"
    }
   ],
   "source": [
    "df.loc[4407]['body'] # we can see that the cleaned body is empty as the body only had subject without content so we can remove them"
   ]
  },
  {
   "cell_type": "code",
   "execution_count": 13,
   "metadata": {},
   "outputs": [
    {
     "data": {
      "text/html": [
       "<div>\n",
       "<style scoped>\n",
       "    .dataframe tbody tr th:only-of-type {\n",
       "        vertical-align: middle;\n",
       "    }\n",
       "\n",
       "    .dataframe tbody tr th {\n",
       "        vertical-align: top;\n",
       "    }\n",
       "\n",
       "    .dataframe thead th {\n",
       "        text-align: right;\n",
       "    }\n",
       "</style>\n",
       "<table border=\"1\" class=\"dataframe\">\n",
       "  <thead>\n",
       "    <tr style=\"text-align: right;\">\n",
       "      <th></th>\n",
       "      <th>Unnamed: 0</th>\n",
       "      <th>label</th>\n",
       "      <th>text</th>\n",
       "      <th>label_num</th>\n",
       "      <th>body</th>\n",
       "      <th>cleaned_body</th>\n",
       "      <th>language</th>\n",
       "    </tr>\n",
       "  </thead>\n",
       "  <tbody>\n",
       "    <tr>\n",
       "      <th>1594</th>\n",
       "      <td>4269</td>\n",
       "      <td>1</td>\n",
       "      <td>Subject: women change your life\\r\\n</td>\n",
       "      <td>1</td>\n",
       "      <td>Subject: women change your life\\r\\n</td>\n",
       "      <td></td>\n",
       "      <td>empty</td>\n",
       "    </tr>\n",
       "    <tr>\n",
       "      <th>2550</th>\n",
       "      <td>3835</td>\n",
       "      <td>1</td>\n",
       "      <td>Subject: multiple ways to get home loans .\\r\\n</td>\n",
       "      <td>1</td>\n",
       "      <td>Subject: multiple ways to get home loans .\\r\\n</td>\n",
       "      <td></td>\n",
       "      <td>empty</td>\n",
       "    </tr>\n",
       "  </tbody>\n",
       "</table>\n",
       "</div>"
      ],
      "text/plain": [
       "      Unnamed: 0  label                                            text  \\\n",
       "1594        4269      1             Subject: women change your life\\r\\n   \n",
       "2550        3835      1  Subject: multiple ways to get home loans .\\r\\n   \n",
       "\n",
       "      label_num                                            body cleaned_body  \\\n",
       "1594          1             Subject: women change your life\\r\\n                \n",
       "2550          1  Subject: multiple ways to get home loans .\\r\\n                \n",
       "\n",
       "     language  \n",
       "1594    empty  \n",
       "2550    empty  "
      ]
     },
     "execution_count": 13,
     "metadata": {},
     "output_type": "execute_result"
    }
   ],
   "source": [
    "df[df['language'] == 'empty'].sample(2)"
   ]
  },
  {
   "cell_type": "code",
   "execution_count": 14,
   "metadata": {},
   "outputs": [
    {
     "data": {
      "text/html": [
       "<div>\n",
       "<style scoped>\n",
       "    .dataframe tbody tr th:only-of-type {\n",
       "        vertical-align: middle;\n",
       "    }\n",
       "\n",
       "    .dataframe tbody tr th {\n",
       "        vertical-align: top;\n",
       "    }\n",
       "\n",
       "    .dataframe thead th {\n",
       "        text-align: right;\n",
       "    }\n",
       "</style>\n",
       "<table border=\"1\" class=\"dataframe\">\n",
       "  <thead>\n",
       "    <tr style=\"text-align: right;\">\n",
       "      <th></th>\n",
       "      <th>body</th>\n",
       "      <th>cleaned_body</th>\n",
       "      <th>label</th>\n",
       "    </tr>\n",
       "  </thead>\n",
       "  <tbody>\n",
       "    <tr>\n",
       "      <th>1866</th>\n",
       "      <td>Subject: didn ' t make the alumni list ?\\r\\nyo...</td>\n",
       "      <td>you deserve a co llege dipl oma missing a piec...</td>\n",
       "      <td>1</td>\n",
       "    </tr>\n",
       "    <tr>\n",
       "      <th>1094</th>\n",
       "      <td>Subject: re : industrial report\\r\\nrobert e ll...</td>\n",
       "      <td>robert e lloyd ect am to pat clynes corp enron...</td>\n",
       "      <td>0</td>\n",
       "    </tr>\n",
       "  </tbody>\n",
       "</table>\n",
       "</div>"
      ],
      "text/plain": [
       "                                                   body  \\\n",
       "1866  Subject: didn ' t make the alumni list ?\\r\\nyo...   \n",
       "1094  Subject: re : industrial report\\r\\nrobert e ll...   \n",
       "\n",
       "                                           cleaned_body  label  \n",
       "1866  you deserve a co llege dipl oma missing a piec...      1  \n",
       "1094  robert e lloyd ect am to pat clynes corp enron...      0  "
      ]
     },
     "execution_count": 14,
     "metadata": {},
     "output_type": "execute_result"
    }
   ],
   "source": [
    "df2 = df.loc[df['language'] == 'en', ['body','cleaned_body', 'label']] # removes all entries that are not english\n",
    "df2.sample(2)"
   ]
  },
  {
   "cell_type": "code",
   "execution_count": 22,
   "metadata": {},
   "outputs": [],
   "source": [
    "df = pd.concat([df1,df2], ignore_index=True)\n",
    "\n",
    "\"\"\"\"\n",
    "df = pd.read_csv(\"../raw/spam_ham_dataset.csv\")\n",
    "df['body'] = df['text']\n",
    "df['label'] = df['label_num']\n",
    "df['cleaned_body'] = df['body'].apply(cleaning)\n",
    "df['language'] = df['cleaned_body'].apply(get_language)\n",
    "df1 = df.loc[df['language'] == 'en', ['body','cleaned_body', 'label']]\n",
    "\"\"\"\n",
    "\n",
    "lst_standard_datasets = [\"CEAS_08.csv\", \"Enron.csv\", \"Ling.csv\", \"SpamAssasin.csv\", \"TREC_07.csv\", \"Nigerian_5.csv\", \"Nazario_5.csv\"]\n",
    "\n",
    "for dataset in lst_standard_datasets:\n",
    "    temp_df = pd.read_csv(\"../data/raw/\"+dataset)[['body','label']]\n",
    "    temp_df['cleaned_body'] = temp_df['body'].apply(cleaning)\n",
    "    temp_df['language'] = temp_df['cleaned_body'].apply(get_language)\n",
    "    df = pd.concat([df, temp_df.loc[temp_df['language'] == 'en', ['body', 'cleaned_body', 'label']]], ignore_index=True)"
   ]
  },
  {
   "cell_type": "code",
   "execution_count": 23,
   "metadata": {},
   "outputs": [
    {
     "name": "stdout",
     "output_type": "stream",
     "text": [
      "<class 'pandas.core.frame.DataFrame'>\n",
      "RangeIndex: 149367 entries, 0 to 149366\n",
      "Data columns (total 3 columns):\n",
      " #   Column        Non-Null Count   Dtype \n",
      "---  ------        --------------   ----- \n",
      " 0   body          149367 non-null  object\n",
      " 1   cleaned_body  149367 non-null  object\n",
      " 2   label         149367 non-null  int64 \n",
      "dtypes: int64(1), object(2)\n",
      "memory usage: 3.4+ MB\n"
     ]
    }
   ],
   "source": [
    "df.info()"
   ]
  },
  {
   "cell_type": "code",
   "execution_count": 25,
   "metadata": {},
   "outputs": [
    {
     "data": {
      "text/html": [
       "<div>\n",
       "<style scoped>\n",
       "    .dataframe tbody tr th:only-of-type {\n",
       "        vertical-align: middle;\n",
       "    }\n",
       "\n",
       "    .dataframe tbody tr th {\n",
       "        vertical-align: top;\n",
       "    }\n",
       "\n",
       "    .dataframe thead th {\n",
       "        text-align: right;\n",
       "    }\n",
       "</style>\n",
       "<table border=\"1\" class=\"dataframe\">\n",
       "  <thead>\n",
       "    <tr style=\"text-align: right;\">\n",
       "      <th></th>\n",
       "      <th>body</th>\n",
       "      <th>cleaned_body</th>\n",
       "      <th>label</th>\n",
       "    </tr>\n",
       "  </thead>\n",
       "  <tbody>\n",
       "    <tr>\n",
       "      <th>53975</th>\n",
       "      <td>cd\\nlabeling kit\\n$ 12 . 00\\ntdk ' s complete ...</td>\n",
       "      <td>cd labeling kit tdk s complete labeling soluti...</td>\n",
       "      <td>1</td>\n",
       "    </tr>\n",
       "    <tr>\n",
       "      <th>15899</th>\n",
       "      <td>\\n\\nTo view this email as a web page, follow t...</td>\n",
       "      <td>to view this email as a web page follow the li...</td>\n",
       "      <td>0</td>\n",
       "    </tr>\n",
       "    <tr>\n",
       "      <th>99480</th>\n",
       "      <td>Hi,\\n\\nI'm wrestling with an analysis of a dat...</td>\n",
       "      <td>hi im wrestling with an analysis of a dataset ...</td>\n",
       "      <td>0</td>\n",
       "    </tr>\n",
       "    <tr>\n",
       "      <th>48662</th>\n",
       "      <td>\\n\\nCNN Alerts: My Custom Alert\\n\\n\\n\\n\\n\\n\\n ...</td>\n",
       "      <td>cnn alerts my custom alert alert name my custo...</td>\n",
       "      <td>1</td>\n",
       "    </tr>\n",
       "    <tr>\n",
       "      <th>140109</th>\n",
       "      <td>John/Gerald, We are currently trading under GT...</td>\n",
       "      <td>johngerald we are currently trading under gtc ...</td>\n",
       "      <td>0</td>\n",
       "    </tr>\n",
       "  </tbody>\n",
       "</table>\n",
       "</div>"
      ],
      "text/plain": [
       "                                                     body  \\\n",
       "53975   cd\\nlabeling kit\\n$ 12 . 00\\ntdk ' s complete ...   \n",
       "15899   \\n\\nTo view this email as a web page, follow t...   \n",
       "99480   Hi,\\n\\nI'm wrestling with an analysis of a dat...   \n",
       "48662   \\n\\nCNN Alerts: My Custom Alert\\n\\n\\n\\n\\n\\n\\n ...   \n",
       "140109  John/Gerald, We are currently trading under GT...   \n",
       "\n",
       "                                             cleaned_body  label  \n",
       "53975   cd labeling kit tdk s complete labeling soluti...      1  \n",
       "15899   to view this email as a web page follow the li...      0  \n",
       "99480   hi im wrestling with an analysis of a dataset ...      0  \n",
       "48662   cnn alerts my custom alert alert name my custo...      1  \n",
       "140109  johngerald we are currently trading under gtc ...      0  "
      ]
     },
     "execution_count": 25,
     "metadata": {},
     "output_type": "execute_result"
    }
   ],
   "source": [
    "df.sample(5)"
   ]
  },
  {
   "cell_type": "code",
   "execution_count": 26,
   "metadata": {},
   "outputs": [
    {
     "data": {
      "text/plain": [
       "body            0\n",
       "cleaned_body    0\n",
       "label           0\n",
       "dtype: int64"
      ]
     },
     "execution_count": 26,
     "metadata": {},
     "output_type": "execute_result"
    }
   ],
   "source": [
    "df.isna().sum()"
   ]
  },
  {
   "cell_type": "code",
   "execution_count": 27,
   "metadata": {},
   "outputs": [
    {
     "data": {
      "text/plain": [
       "23439"
      ]
     },
     "execution_count": 27,
     "metadata": {},
     "output_type": "execute_result"
    }
   ],
   "source": [
    "df['cleaned_body'].duplicated().sum()"
   ]
  },
  {
   "cell_type": "code",
   "execution_count": 28,
   "metadata": {},
   "outputs": [
    {
     "data": {
      "text/plain": [
       "0"
      ]
     },
     "execution_count": 28,
     "metadata": {},
     "output_type": "execute_result"
    }
   ],
   "source": [
    "df.drop_duplicates(subset = ['cleaned_body'], inplace=True)\n",
    "df['cleaned_body'].duplicated().sum()"
   ]
  },
  {
   "cell_type": "code",
   "execution_count": 29,
   "metadata": {},
   "outputs": [],
   "source": [
    "import nltk\n",
    "import re\n",
    "from nltk.tokenize import word_tokenize\n",
    "from nltk.corpus import stopwords\n",
    "from nltk.stem import WordNetLemmatizer"
   ]
  },
  {
   "cell_type": "markdown",
   "metadata": {},
   "source": [
    "## Feature Engineering (POS Tagging) (needs to be done before the words are preprocessed where there's inevitable removal of some info)\n",
    "\n",
    "Explanation:\n",
    "The order of POS tags might be a strong signal. Certain patterns might be more common in spam messages than in legitimate texts. For example:\n",
    "1. direct commands followed by a noun. POS Tag sequence: Verb (VB*) → Determiner (DT) → Noun (NN*) E.g. \"Claim this prize (now!)\"\n",
    "2. aggressively combining adjectives with action-driven verbs. POS Tag sequence: Verb (VB*) → Adjective (JJ) → Noun (NN*) E.g. \"Get amazing rewards (today!)\"\n",
    "3. use of urgency-driven modals. POS Tag sequence: Noun (NN/NNS) → Modal Verb (MD) → Verb (VB) E.g. \"You must act (now!)\"\n",
    "\n",
    "Assumptions made: Minimal spelling errors made, sentences are grammatically accurate and nltk's `pos_tag()` function is reliable"
   ]
  },
  {
   "cell_type": "code",
   "execution_count": 30,
   "metadata": {},
   "outputs": [],
   "source": [
    "##############################################\n",
    "#              ADDED POS TAGGING HERE\n",
    "##############################################\n",
    "\n",
    "def get_pos_tags(text): #str -> list of POS tags \n",
    "    try:\n",
    "        tokens = nltk.word_tokenize(text)\n",
    "        tags = [tag for word, tag in nltk.pos_tag(tokens)]\n",
    "        return tags\n",
    "    except Exception:\n",
    "        return [] # Handle potential errors\n",
    "\n",
    "def count_vb_dt_nn(pos_tags):\n",
    "    \"\"\"\n",
    "    Counts occurrences of the POS tag sequence: \n",
    "    - VB* (any verb form) \n",
    "    - DT (determiner) \n",
    "    - NN* (any noun form)\n",
    "    \"\"\"\n",
    "    pattern = re.compile(r'VB\\w* DT NN\\w*')  # Regex to match VB* -> DT -> NN*\n",
    "    # Convert list into a space-separated string of POS tags\n",
    "    pos_sequence = \" \".join(pos_tags)\n",
    "    # Find all matches\n",
    "    matches = pattern.findall(pos_sequence)\n",
    "    return len(matches)\n",
    "\n",
    "def count_vb_jj_nn(pos_tags):\n",
    "    \"\"\"\n",
    "    Counts occurrences of the POS tag sequence: \n",
    "    - VB* (any verb form) \n",
    "    - JJ (adjective) \n",
    "    - NN* (any noun form)\n",
    "    \"\"\"\n",
    "    pattern = re.compile(r'VB\\w* JJ NN\\w*')\n",
    "    # Convert list into a space-separated string of POS tags\n",
    "    pos_sequence = \" \".join(pos_tags)\n",
    "    # Find all matches\n",
    "    matches = pattern.findall(pos_sequence)\n",
    "    return len(matches)\n",
    "\n",
    "def count_nn_md_vb(pos_tags):\n",
    "    \"\"\"\n",
    "    Counts occurrences of the POS tag sequence: \n",
    "    - NN* (any noun form) \n",
    "    - MD (modal e.g. must, should) \n",
    "    - VB* (any verb form)\n",
    "    \"\"\"\n",
    "    pattern = re.compile(r'NN\\w* MD VB\\w*') \n",
    "    # Convert list into a space-separated string of POS tags\n",
    "    pos_sequence = \" \".join(pos_tags)\n",
    "    # Find all matches\n",
    "    matches = pattern.findall(pos_sequence)\n",
    "    return len(matches)\n",
    "\n",
    "##############################################\n",
    "#           ADDED POS TAGGING HERE\n",
    "##############################################\n",
    "\n",
    "df['pos_tags'] = df['cleaned_body'].apply(get_pos_tags)\n",
    "df['percentage_vb_dt_nn'] = (df['pos_tags'].apply(count_vb_dt_nn)) / (df['pos_tags'].apply(len)) * 100\n",
    "df['percentage_vb_jj_nn'] = (df['pos_tags'].apply(count_vb_jj_nn)) / (df['pos_tags'].apply(len)) * 100\n",
    "df['percentage_nn_md_vb'] = (df['pos_tags'].apply(count_nn_md_vb)) / (df['pos_tags'].apply(len)) * 100"
   ]
  },
  {
   "cell_type": "code",
   "execution_count": 31,
   "metadata": {},
   "outputs": [
    {
     "data": {
      "text/html": [
       "<div>\n",
       "<style scoped>\n",
       "    .dataframe tbody tr th:only-of-type {\n",
       "        vertical-align: middle;\n",
       "    }\n",
       "\n",
       "    .dataframe tbody tr th {\n",
       "        vertical-align: top;\n",
       "    }\n",
       "\n",
       "    .dataframe thead th {\n",
       "        text-align: right;\n",
       "    }\n",
       "</style>\n",
       "<table border=\"1\" class=\"dataframe\">\n",
       "  <thead>\n",
       "    <tr style=\"text-align: right;\">\n",
       "      <th></th>\n",
       "      <th>body</th>\n",
       "      <th>cleaned_body</th>\n",
       "      <th>label</th>\n",
       "      <th>pos_tags</th>\n",
       "      <th>percentage_vb_dt_nn</th>\n",
       "      <th>percentage_vb_jj_nn</th>\n",
       "      <th>percentage_nn_md_vb</th>\n",
       "    </tr>\n",
       "  </thead>\n",
       "  <tbody>\n",
       "    <tr>\n",
       "      <th>0</th>\n",
       "      <td>Subject: naturally irresistible your corporate...</td>\n",
       "      <td>naturally irresistible your corporate identity...</td>\n",
       "      <td>1</td>\n",
       "      <td>[RB, JJ, PRP$, JJ, NN, NN, VBZ, RB, JJ, TO, VB...</td>\n",
       "      <td>3.743316</td>\n",
       "      <td>2.139037</td>\n",
       "      <td>1.069519</td>\n",
       "    </tr>\n",
       "    <tr>\n",
       "      <th>1</th>\n",
       "      <td>Subject: the stock trading gunslinger  fanny i...</td>\n",
       "      <td>the stock trading gunslinger fanny is merrill ...</td>\n",
       "      <td>1</td>\n",
       "      <td>[DT, NN, NN, NN, NN, VBZ, RB, CC, VBZ, RB, JJ,...</td>\n",
       "      <td>0.000000</td>\n",
       "      <td>0.000000</td>\n",
       "      <td>0.000000</td>\n",
       "    </tr>\n",
       "    <tr>\n",
       "      <th>2</th>\n",
       "      <td>Subject: unbelievable new homes made easy  im ...</td>\n",
       "      <td>unbelievable new homes made easy im wanting to...</td>\n",
       "      <td>1</td>\n",
       "      <td>[JJ, JJ, NNS, VBN, JJ, JJ, VBG, TO, VB, PRP, D...</td>\n",
       "      <td>1.351351</td>\n",
       "      <td>0.000000</td>\n",
       "      <td>0.000000</td>\n",
       "    </tr>\n",
       "    <tr>\n",
       "      <th>3</th>\n",
       "      <td>Subject: 4 color printing special  request add...</td>\n",
       "      <td>color printing special request additional info...</td>\n",
       "      <td>1</td>\n",
       "      <td>[NN, VBG, JJ, NN, JJ, NN, RB, VBZ, RB, NN, RB,...</td>\n",
       "      <td>1.562500</td>\n",
       "      <td>4.687500</td>\n",
       "      <td>0.000000</td>\n",
       "    </tr>\n",
       "    <tr>\n",
       "      <th>4</th>\n",
       "      <td>Subject: do not have money , get software cds ...</td>\n",
       "      <td>do not have money get software cds from here s...</td>\n",
       "      <td>1</td>\n",
       "      <td>[VBP, RB, VB, NN, NN, NN, NNS, IN, RB, NN, NN,...</td>\n",
       "      <td>2.564103</td>\n",
       "      <td>2.564103</td>\n",
       "      <td>0.000000</td>\n",
       "    </tr>\n",
       "  </tbody>\n",
       "</table>\n",
       "</div>"
      ],
      "text/plain": [
       "                                                body  \\\n",
       "0  Subject: naturally irresistible your corporate...   \n",
       "1  Subject: the stock trading gunslinger  fanny i...   \n",
       "2  Subject: unbelievable new homes made easy  im ...   \n",
       "3  Subject: 4 color printing special  request add...   \n",
       "4  Subject: do not have money , get software cds ...   \n",
       "\n",
       "                                        cleaned_body  label  \\\n",
       "0  naturally irresistible your corporate identity...      1   \n",
       "1  the stock trading gunslinger fanny is merrill ...      1   \n",
       "2  unbelievable new homes made easy im wanting to...      1   \n",
       "3  color printing special request additional info...      1   \n",
       "4  do not have money get software cds from here s...      1   \n",
       "\n",
       "                                            pos_tags  percentage_vb_dt_nn  \\\n",
       "0  [RB, JJ, PRP$, JJ, NN, NN, VBZ, RB, JJ, TO, VB...             3.743316   \n",
       "1  [DT, NN, NN, NN, NN, VBZ, RB, CC, VBZ, RB, JJ,...             0.000000   \n",
       "2  [JJ, JJ, NNS, VBN, JJ, JJ, VBG, TO, VB, PRP, D...             1.351351   \n",
       "3  [NN, VBG, JJ, NN, JJ, NN, RB, VBZ, RB, NN, RB,...             1.562500   \n",
       "4  [VBP, RB, VB, NN, NN, NN, NNS, IN, RB, NN, NN,...             2.564103   \n",
       "\n",
       "   percentage_vb_jj_nn  percentage_nn_md_vb  \n",
       "0             2.139037             1.069519  \n",
       "1             0.000000             0.000000  \n",
       "2             0.000000             0.000000  \n",
       "3             4.687500             0.000000  \n",
       "4             2.564103             0.000000  "
      ]
     },
     "execution_count": 31,
     "metadata": {},
     "output_type": "execute_result"
    }
   ],
   "source": [
    "df.head()"
   ]
  },
  {
   "cell_type": "markdown",
   "metadata": {},
   "source": [
    "## Data preprocessing steps\n",
    "1. Tokenization\n",
    "2. Remove stop words\n",
    "3. Lemmatization\n",
    "-- we choose to perform lemmatization instead of stemming to identify the original meaning of the word"
   ]
  },
  {
   "cell_type": "code",
   "execution_count": null,
   "metadata": {},
   "outputs": [],
   "source": [
    "stop_words = set(stopwords.words(\"english\"))\n",
    "lemmatizer = WordNetLemmatizer()\n",
    "    \n",
    "def preprocess(text):\n",
    "    words = word_tokenize(text)\n",
    "    \n",
    "    # Remove stopwords\n",
    "    words = [word for word in words if word not in stop_words]\n",
    "    \n",
    "    # Lemmatization\n",
    "    words = [lemmatizer.lemmatize(word) for word in words]\n",
    "\n",
    "    return words\n"
   ]
  },
  {
   "cell_type": "code",
   "execution_count": null,
   "metadata": {},
   "outputs": [],
   "source": [
    "df.head(5)"
   ]
  },
  {
   "cell_type": "code",
   "execution_count": null,
   "metadata": {},
   "outputs": [],
   "source": [
    "df.to_csv('../data/processed/full_df.csv', index = False)"
   ]
  },
  {
   "cell_type": "markdown",
   "metadata": {},
   "source": [
    "Split into training and testing sets"
   ]
  },
  {
   "cell_type": "code",
   "execution_count": 29,
   "metadata": {},
   "outputs": [],
   "source": [
    "from sklearn.model_selection import train_test_split"
   ]
  },
  {
   "cell_type": "code",
   "execution_count": 30,
   "metadata": {},
   "outputs": [],
   "source": [
    "labels = df['label'].tolist()"
   ]
  },
  {
   "cell_type": "code",
   "execution_count": 31,
   "metadata": {},
   "outputs": [
    {
     "data": {
      "text/plain": [
       "['subject naturally irresistible your corporate identity lt is really hard to recollect a company the market is full of suqgestions and the information isoverwhelminq but a good catchy logo stylish statlonery and outstanding website will make the task much easier we do not promise that havinq ordered a iogo your company will automaticaily become a world ieader it isguite ciear that without good products effective business organization and practicable aim it will be hotat nowadays market but we do promise that your marketing efforts will become much more effective here is the list of clear benefits creativeness hand made original logos specially done to reflect your distinctive company image convenience logo and stationery are provided in all formats easy to use content management system letsyou change your website content and even its structure promptness you will see logo drafts within three business days affordability your marketing break through shouldn t make gaps in your budget satisfaction guaranteed we provide unlimited amount of changes with no extra fees for you to be surethat you will love the result of this collaboration have a look at our portfolio not interested',\n",
       " 'subject the stock trading gunslinger fanny is merrill but muzo not colza attainder and penultimate like esmark perspicuous ramble is segovia not group try slung kansas tanzania yes chameleon or continuant clothesman no libretto is chesapeake but tight not waterway herald and hawthorn like chisel morristown superior is deoxyribonucleic not clockwork try hall incredible mcdougall yes hepburn or einsteinian earmark no sapling is boar but duane not plain palfrey and inflexible like huzzah pepperoni bedtime is nameable not attire try edt chronography optima yes pirogue or diffusion albeit no',\n",
       " 'subject unbelievable new homes made easy im wanting to show you this homeowner you have been pre approved for a home loan at a fixed rate this offer is being extended to you unconditionally and your credit is in no way a factor to take advantage of this limited time opportunity all we ask is that you visit our website and complete the minute post approval form look foward to hearing from you dorcas pittman',\n",
       " 'subject color printing special request additional information now click here click here for a printable version of our order form pdf format phone fax e mail ramsey goldengraphix com request additional information now click here click here for a printable version of our order form pdf format golden graphix printing azusa canyon rd irwindale ca this e mail message is an advertisement and or solicitation',\n",
       " 'subject do not have money get software cds from here software compatibility ain t it great grow old along with me the best is yet to be all tradgedies are finish d by death all comedies are ended by marriage',\n",
       " 'subject great nnews hello welcome to medzonline sh groundsel op we are pleased to introduce ourselves as one of the ieading online phar felicitation maceuticai shops helter v shakedown r a cosmopolitan l l blister l l bestow ag ac tosher l is coadjutor va confidant um andmanyother sav inexpiable e over total confide leisure ntiaiity worldwide s polite hlpplng ov allusion er miilion customers in countries have devitalize a nice day',\n",
       " 'subject here s a hot play in motion homeland security investments the terror attacks on the united states on september ol have changed the security landscape for the foreseeable future both physical and ogica security have become paramount for all industry segments especia y in the banking nationa resource and government sectors according to giga a who y owned subsidiary of forrester research woridwide demand for information security products and services is set to eclipse b by homeiand security investments is a newsietter dedicated to providing our readers with information pertaining to investment opportunities in this lucrative sector as we know events related to homeland security happen with lightning speed what we as investors can do is position ourselves in such a way as to take advantage of the current trends and be ready to capitalize on events which have yet to happen homeland security investments is here to heip our readers do just that with this in mind it is with great excitement that we present vinoble inc this stock is expected to do big things in both the near and ong terms symbol vnbl ob current price o short term target price o month target price why we believe vnbl ob will give big returns on investment at this time much of vnbl s focus is on rfid radio frequency identification technoiogy this is technology which uses tiny sensors to transmit information about a person or object wireiessly vnbl is aiready an industry pioneer in the rfid personal location technoiogy vnbl is developing a form of rfid technology which allows companies and governments to wirelessly track their assets and resources such technoiogy has huge potentia in the protection and transportation of materiais designated high risk were they to fa into the wrong hands vnbl works on integration of the two afore mentioned systems in order to create high security space in ocaies where it is deemed necessary locations which may take advantage of such systems are airports sea ports mines nuciear faciiities and more as with a stocks news drives the short term price fresh news has made vnbl a hot buy news on vnbl malibu calif business wire june oo vinoble inc otcbb vnbl news a holding company seeking to identify ong term growth opportunities in the areas of homeland security security information systems and other security services announced today that it pians to offer products and services that wiil assist in the automation of the identification and control of equipment assets toois and the related processes used in the oi gas and petrochemical industries although smail wireiessly networked rfid sensors can monitor machines and equipment to detect possible problems before they become serious they can aiso deiiver safety features within oi welis oi maybe trapped in different ayers of rock aiong with gas and water detection of specific iquids can assist equipment in operating within a specific precise opportune moment to ensure certain adverse conditions do not occur such as a well filiing with water as with other rf based technoiogy applications rfid can also provide the safe transit of materiais by only the authorized handler and limit the entry of personne to specific ocations ensuring personnel safety is essential should there be an emergency at a faciiity rfid tags wouid enabie the customer to track and evaiuate its empioyee s safety and or danger this application technology requires product and hardware that can operate in harsh and potentia y hazardous conditions but gives valuable safety to the resources and assets that are vita to the customer rfid can aiso assist the customer s supply chain by tracking oi gas and chemica products from extraction to refining to the saie at the retai evel vinoble s viewpoint as previousiy stated is that these applications are more than just a vaiuable too to the mining industry but as a protective measure of our country s natura resources and commodities against threat preservation of these fueis and resources is important to the safety of u s industry and economy the company believes that such offering service and technoiogy appiication in the oil gas and petrochemical industry wil further position vinoble in a rapidly expanding industry whiie taking advantage of access to the increasing capital and gioba spending that the company wi require for growth the company s goal is to aiso provide a much needed service at a cost manageable to even the sma est of businesses that can t afford to do without the safety of its personnel and assets in this current state of constant threat this is outstanding news the growth potential for this company is exceptional in an already hot industry vnbl ob stands out as a truiy innovative pioneer we see big things happening to this stock information within this emai contains forward looking statements within the meaning of section a of the securities act of and section b of the securities exchange act of any statements that express or involve discussions with respect to predictions expectations beliefs pians projections objectives goals assumptions or future events or performance are not statements of historica fact and may be forward ooking statements forward ooking statements are based on expectations estimates and projections at the time the statements are made that invoive a number of risks and uncertainties which couid cause actua results or events to differ materia y from those presently anticipated forward looking statements in this action may be identified through the use of words such as projects foresee expects wi anticipates estimates beiieves understands or that by statements indicating certain actions may couid or might occur as with many micro cap stocks today s company has additional risk factors worth noting those factors inciude a limited operating history the company advancing cash to reiated parties and a shareholder on an unsecured basis one vendor a related party through a majority stockhoider supplies ninety seven percent of the company s raw materiais reiiance on two customers for over fifty percent of their business and numerous related party transactions and the need to raise capital these factors and others are more fuily speiled out in the company s sec fiiings we urge you to read the filings before you invest the rocket stock report does not represent that the information contained in this message states ail materia facts or does not omit a material fact necessary to make the statements therein not misleading ail information provided within this emai pertaining to investing stocks securities must be understood as information provided and not investment advice the rocket stock report advises all readers and subscribers to seek advice from a registered professiona securities representative before deciding to trade in stocks featured within this email none of the material within this report shal be construed as any kind of investment advice or solicitation many of these companies are on the verge of bankruptcy you can lose ail your money by investing in this stock the publisher of the rocket stock report is not a registered investment advisor subscribers should not view information herein as ega tax accounting or investment advice any reference to past performance s of companies are speciaily seiected to be referenced based on the favorabie performance of these companies you wouid need perfect timing to achieve the resuits in the exampies given there can be no assurance of that happening remember as aiways past performance is never indicative of future results and a thorough due diiigence effort including a review of a company s filings shouid be completed prior to investing in compiiance with the securities act of section b the rocket stock report discioses the receipt of tweive thousand doilars from a third party gem inc not an officer director or affiliate sharehoider for the circuiation of this report gem inc has a position in the stock they wil se at any time without notice be aware of an inherent confiict of interest resuiting from such compensation due to the fact that this is a paid advertisement and we are conflicted al factua information in this report was gathered from pubiic sources inciuding but not limited to company websites sec fiiings and company press releases the rocket stock report beiieves this information to be reliabie but can make no guarantee as to its accuracy or compieteness use of the materia within this email constitutes your acceptance of these terms',\n",
       " 'subject save your money buy getting this thing here you have not tried cialls yet than you cannot even imagine what it is like to be a real man in bed the thing is that a great errrectlon is provided for you exactiy when you want cialis has a lot of advantages over viagra the effect iasts hours you are ready to start within just minutes you can mix it with aicohol we ship to any country get it right now',\n",
       " 'subject undeliverable home based business for grownups your message subject home based business for grownups sent sun jan did not reach the following recipient s tfi kpn com on mon feb the recipient name is not recognized the mts id of the original message is c us a p ptt telecom l mtpi fjt d q msexch ims kpn telecom i mtpi co a unknown recipient',\n",
       " 'subject save your money buy getting this thing here you have not tried cialls yet than you cannot even imagine what it is like to be a real man in bed the thing is that a great errrectlon is provided for you exactiy when you want cialis has a lot of advantages over viagra the effect lasts hours you are ready to start within just minutes you can mix it with aicohoi we ship to any country get it right now']"
      ]
     },
     "execution_count": 31,
     "metadata": {},
     "output_type": "execute_result"
    }
   ],
   "source": [
    "df_copy = df\n",
    "clean_content = df_copy['cleaned_body'].to_list(); clean_content[:10]"
   ]
  },
  {
   "cell_type": "code",
   "execution_count": 32,
   "metadata": {},
   "outputs": [],
   "source": [
    "# split test and train 80-20\n",
    "train_df, test_df = train_test_split(df, test_size=0.20, random_state=4263, stratify=df_copy['label'])"
   ]
  },
  {
   "cell_type": "code",
   "execution_count": 33,
   "metadata": {},
   "outputs": [],
   "source": [
    "import seaborn as sns\n",
    "import matplotlib.pyplot as plt"
   ]
  },
  {
   "cell_type": "code",
   "execution_count": 34,
   "metadata": {},
   "outputs": [
    {
     "data": {
      "image/png": "[encoded data removed]",
      "text/plain": [
       "<Figure size 640x480 with 1 Axes>"
      ]
     },
     "metadata": {},
     "output_type": "display_data"
    }
   ],
   "source": [
    "count = train_df['label'].value_counts()\n",
    "labels = {0:'ham', 1:'spam'}\n",
    "\n",
    "ax = sns.barplot(x = labels, y = count).set_title(\"Class balance in training data\")"
   ]
  },
  {
   "cell_type": "code",
   "execution_count": 35,
   "metadata": {},
   "outputs": [
    {
     "data": {
      "image/png": "[encoded data removed]",
      "text/plain": [
       "<Figure size 640x480 with 1 Axes>"
      ]
     },
     "metadata": {},
     "output_type": "display_data"
    }
   ],
   "source": [
    "count = test_df['label'].value_counts()\n",
    "labels = {0:'ham', 1:'spam'}\n",
    "\n",
    "ax = sns.barplot(x = labels, y = count).set_title(\"Class balance in testing data\")"
   ]
  },
  {
   "cell_type": "code",
   "execution_count": null,
   "metadata": {},
   "outputs": [],
   "source": [
    "train_df.to_csv('../data/processed/training.csv', index = False)\n",
    "test_df.to_csv('../data/processed/testing.csv', index = False)"
   ]
  }
 ],
 "metadata": {
  "kernelspec": {
   "display_name": "Python 3",
   "language": "python",
   "name": "python3"
  },
  "language_info": {
   "codemirror_mode": {
    "name": "ipython",
    "version": 3
   },
   "file_extension": ".py",
   "mimetype": "text/x-python",
   "name": "python",
   "nbconvert_exporter": "python",
   "pygments_lexer": "ipython3",
   "version": "3.12.6"
  }
 },
 "nbformat": 4,
 "nbformat_minor": 2
}
