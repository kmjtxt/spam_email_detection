{
 "cells": [
  {
   "cell_type": "markdown",
   "metadata": {},
   "source": [
    "## Data cleaning and preprocessing"
   ]
  },
  {
   "cell_type": "markdown",
   "metadata": {},
   "source": [
    "Data cleaning steps\n",
    "1. Clean body of each dataset, exctracting just the words\n",
    "2. Remove non-english rows using langdetect\n",
    "3. Combine all datasets\n",
    "\n",
    "We only combine in the last step as the datasets are large."
   ]
  },
  {
   "cell_type": "code",
   "execution_count": 49,
   "metadata": {},
   "outputs": [],
   "source": [
    "import pandas as pd\n",
    "import re\n",
    "import gdown"
   ]
  },
  {
   "cell_type": "markdown",
   "metadata": {},
   "source": [
    "Downloading the raw datasets from the google drive:"
   ]
  },
  {
   "cell_type": "code",
   "execution_count": null,
   "metadata": {},
   "outputs": [],
   "source": [
    "https://drive.google.com/file/d/1R3olDW5JQVuu_nDoYqIs80GUb0kJMMwG/view?usp=share_link"
   ]
  },
  {
   "cell_type": "code",
   "execution_count": 62,
   "metadata": {},
   "outputs": [
    {
     "ename": "FileURLRetrievalError",
     "evalue": "Failed to retrieve file url:\n\n\tCannot retrieve the public link of the file. You may need to change\n\tthe permission to 'Anyone with the link', or have had many accesses.\n\tCheck FAQ in https://github.com/wkentaro/gdown?tab=readme-ov-file#faq.\n\nYou may still be able to access the file from the browser:\n\n\thttps://drive.google.com/uc?id=1R3oLDW5JQVuu_nDoYqIs8QGUb0kJMMvG\n\nbut Gdown can't. Please check connections and permissions.",
     "output_type": "error",
     "traceback": [
      "\u001b[0;31m---------------------------------------------------------------------------\u001b[0m",
      "\u001b[0;31mFileURLRetrievalError\u001b[0m                     Traceback (most recent call last)",
      "File \u001b[0;32m/Library/Frameworks/Python.framework/Versions/3.12/lib/python3.12/site-packages/gdown/download.py:267\u001b[0m, in \u001b[0;36mdownload\u001b[0;34m(url, output, quiet, proxy, speed, use_cookies, verify, id, fuzzy, resume, format, user_agent, log_messages)\u001b[0m\n\u001b[1;32m    266\u001b[0m \u001b[38;5;28;01mtry\u001b[39;00m:\n\u001b[0;32m--> 267\u001b[0m     url \u001b[38;5;241m=\u001b[39m \u001b[43mget_url_from_gdrive_confirmation\u001b[49m\u001b[43m(\u001b[49m\u001b[43mres\u001b[49m\u001b[38;5;241;43m.\u001b[39;49m\u001b[43mtext\u001b[49m\u001b[43m)\u001b[49m\n\u001b[1;32m    268\u001b[0m \u001b[38;5;28;01mexcept\u001b[39;00m FileURLRetrievalError \u001b[38;5;28;01mas\u001b[39;00m e:\n",
      "File \u001b[0;32m/Library/Frameworks/Python.framework/Versions/3.12/lib/python3.12/site-packages/gdown/download.py:55\u001b[0m, in \u001b[0;36mget_url_from_gdrive_confirmation\u001b[0;34m(contents)\u001b[0m\n\u001b[1;32m     54\u001b[0m \u001b[38;5;28;01mif\u001b[39;00m \u001b[38;5;129;01mnot\u001b[39;00m url:\n\u001b[0;32m---> 55\u001b[0m     \u001b[38;5;28;01mraise\u001b[39;00m FileURLRetrievalError(\n\u001b[1;32m     56\u001b[0m         \u001b[38;5;124m\"\u001b[39m\u001b[38;5;124mCannot retrieve the public link of the file. \u001b[39m\u001b[38;5;124m\"\u001b[39m\n\u001b[1;32m     57\u001b[0m         \u001b[38;5;124m\"\u001b[39m\u001b[38;5;124mYou may need to change the permission to \u001b[39m\u001b[38;5;124m\"\u001b[39m\n\u001b[1;32m     58\u001b[0m         \u001b[38;5;124m\"\u001b[39m\u001b[38;5;124m'\u001b[39m\u001b[38;5;124mAnyone with the link\u001b[39m\u001b[38;5;124m'\u001b[39m\u001b[38;5;124m, or have had many accesses. \u001b[39m\u001b[38;5;124m\"\u001b[39m\n\u001b[1;32m     59\u001b[0m         \u001b[38;5;124m\"\u001b[39m\u001b[38;5;124mCheck FAQ in https://github.com/wkentaro/gdown?tab=readme-ov-file#faq.\u001b[39m\u001b[38;5;124m\"\u001b[39m,\n\u001b[1;32m     60\u001b[0m     )\n\u001b[1;32m     61\u001b[0m \u001b[38;5;28;01mreturn\u001b[39;00m url\n",
      "\u001b[0;31mFileURLRetrievalError\u001b[0m: Cannot retrieve the public link of the file. You may need to change the permission to 'Anyone with the link', or have had many accesses. Check FAQ in https://github.com/wkentaro/gdown?tab=readme-ov-file#faq.",
      "\nDuring handling of the above exception, another exception occurred:\n",
      "\u001b[0;31mFileURLRetrievalError\u001b[0m                     Traceback (most recent call last)",
      "Cell \u001b[0;32mIn[62], line 4\u001b[0m\n\u001b[1;32m      2\u001b[0m emails_id \u001b[38;5;241m=\u001b[39m \u001b[38;5;124m'\u001b[39m\u001b[38;5;124m1R3oLDW5JQVuu_nDoYqIs8QGUb0kJMMvG\u001b[39m\u001b[38;5;124m'\u001b[39m\n\u001b[1;32m      3\u001b[0m emails_url \u001b[38;5;241m=\u001b[39m \u001b[38;5;124mf\u001b[39m\u001b[38;5;124m'\u001b[39m\u001b[38;5;124mhttps://drive.google.com/uc?id=\u001b[39m\u001b[38;5;132;01m{\u001b[39;00memails_id\u001b[38;5;132;01m}\u001b[39;00m\u001b[38;5;124m'\u001b[39m\n\u001b[0;32m----> 4\u001b[0m \u001b[43mgdown\u001b[49m\u001b[38;5;241;43m.\u001b[39;49m\u001b[43mdownload\u001b[49m\u001b[43m(\u001b[49m\u001b[43memails_url\u001b[49m\u001b[43m,\u001b[49m\u001b[38;5;124;43m'\u001b[39;49m\u001b[38;5;124;43memails.csv\u001b[39;49m\u001b[38;5;124;43m'\u001b[39;49m\u001b[43m,\u001b[49m\u001b[43m \u001b[49m\u001b[43mfuzzy\u001b[49m\u001b[38;5;241;43m=\u001b[39;49m\u001b[38;5;28;43;01mTrue\u001b[39;49;00m\u001b[43m,\u001b[49m\u001b[43m \u001b[49m\u001b[43mquiet\u001b[49m\u001b[38;5;241;43m=\u001b[39;49m\u001b[38;5;28;43;01mFalse\u001b[39;49;00m\u001b[43m)\u001b[49m\n\u001b[1;32m      6\u001b[0m \u001b[38;5;66;03m# TREC_07\u001b[39;00m\n\u001b[1;32m      7\u001b[0m trec_url \u001b[38;5;241m=\u001b[39m \u001b[38;5;124mf\u001b[39m\u001b[38;5;124m'\u001b[39m\u001b[38;5;124mhttps://drive.google.com/uc?id=1Unw85XdkPItLzpFexBA8pVJMg-evWj9B\u001b[39m\u001b[38;5;124m'\u001b[39m\n",
      "File \u001b[0;32m/Library/Frameworks/Python.framework/Versions/3.12/lib/python3.12/site-packages/gdown/download.py:278\u001b[0m, in \u001b[0;36mdownload\u001b[0;34m(url, output, quiet, proxy, speed, use_cookies, verify, id, fuzzy, resume, format, user_agent, log_messages)\u001b[0m\n\u001b[1;32m    268\u001b[0m     \u001b[38;5;28;01mexcept\u001b[39;00m FileURLRetrievalError \u001b[38;5;28;01mas\u001b[39;00m e:\n\u001b[1;32m    269\u001b[0m         message \u001b[38;5;241m=\u001b[39m (\n\u001b[1;32m    270\u001b[0m             \u001b[38;5;124m\"\u001b[39m\u001b[38;5;124mFailed to retrieve file url:\u001b[39m\u001b[38;5;130;01m\\n\u001b[39;00m\u001b[38;5;130;01m\\n\u001b[39;00m\u001b[38;5;132;01m{}\u001b[39;00m\u001b[38;5;130;01m\\n\u001b[39;00m\u001b[38;5;130;01m\\n\u001b[39;00m\u001b[38;5;124m\"\u001b[39m\n\u001b[1;32m    271\u001b[0m             \u001b[38;5;124m\"\u001b[39m\u001b[38;5;124mYou may still be able to access the file from the browser:\u001b[39m\u001b[38;5;124m\"\u001b[39m\n\u001b[0;32m   (...)\u001b[0m\n\u001b[1;32m    276\u001b[0m             url_origin,\n\u001b[1;32m    277\u001b[0m         )\n\u001b[0;32m--> 278\u001b[0m         \u001b[38;5;28;01mraise\u001b[39;00m FileURLRetrievalError(message)\n\u001b[1;32m    280\u001b[0m filename_from_url \u001b[38;5;241m=\u001b[39m \u001b[38;5;28;01mNone\u001b[39;00m\n\u001b[1;32m    281\u001b[0m last_modified_time \u001b[38;5;241m=\u001b[39m \u001b[38;5;28;01mNone\u001b[39;00m\n",
      "\u001b[0;31mFileURLRetrievalError\u001b[0m: Failed to retrieve file url:\n\n\tCannot retrieve the public link of the file. You may need to change\n\tthe permission to 'Anyone with the link', or have had many accesses.\n\tCheck FAQ in https://github.com/wkentaro/gdown?tab=readme-ov-file#faq.\n\nYou may still be able to access the file from the browser:\n\n\thttps://drive.google.com/uc?id=1R3oLDW5JQVuu_nDoYqIs8QGUb0kJMMvG\n\nbut Gdown can't. Please check connections and permissions."
     ]
    }
   ],
   "source": [
    "#emails.csv\n",
    "emails_id = '1R3oLDW5JQVuu_nDoYqIs8QGUb0kJMMvG'\n",
    "emails_url = f'https://drive.google.com/uc?id={emails_id}'\n",
    "gdown.download(emails_url,'emails.csv', fuzzy=True, quiet=False)\n",
    "\n",
    "# TREC_07\n",
    "trec_url = f'https://drive.google.com/uc?id=1Unw85XdkPItLzpFexBA8pVJMg-evWj9B'\n",
    "gdown.download(trec_url, 'TREC_07.csv', fuzzy=True, quiet=False)\n",
    "\n",
    "# CEAS_08\n",
    "ceas_url = f'https://drive.google.com/uc?id=1LCoXjr4f4fSlDC7eMXmcVGu89iQtGAXK'\n",
    "gdown.download(ceas_url, \"CEAS_08.csv\", fuzzy=True, quiet=False)\n",
    "\n",
    "# Enron\n",
    "enron_url = f'https://drive.google.com/uc?id=1omZZiIfnmr8zg7ZE8s-EXiNlm955mN4v'\n",
    "gdown.download(enron_url, \"Enron.csv\", fuzzy=True, quiet=False)\n",
    "\n",
    "# Spam Ham Dataset\n",
    "spam_ham_url = f'https://drive.google.com/uc?id=1Tkwnt3INrsYiSGLJlSbROvn2e-N9fKsi'\n",
    "gdown.download(spam_ham_url, \"spam_ham_dataset.csv\",fuzzy=True, quiet=False)\n",
    "\n",
    "# Ling\n",
    "ling_url = f'https://drive.google.com/uc?id=1NBJ7bJqeekfxZT1_9l1ztVqJzxlOx3MX'\n",
    "gdown.download(ling_url, \"Ling.csv\", fuzzy=True, quiet=False)\n",
    "\n",
    "# Nigerian_5\n",
    "nigerian_url = f'https://drive.google.com/uc?id=1Qlh2KH1D48LAPTJKC0GC24KXFqljJmLs'\n",
    "gdown.download(nigerian_url, \"Nigerian_5.csv\", fuzzy=True, quiet=False)\n",
    "\n",
    "# Spam Assasin\n",
    "spam_assasin_url = f'https://drive.google.com/uc?id=15KF--v1DR_PJ5xT4ES_Bn2iQWzXZkByJ'\n",
    "gdown.download(spam_assasin_url, \"SpamAssasin.csv\", fuzzy=True, quiet=False)\n",
    "\n",
    "# Nazario_5\n",
    "nazario_url = f'https://drive.google.com/uc?id=1M6Si8zcSnnr3zTFnlIHz6ZwuUe8WrvRC'\n",
    "gdown.download(nazario_url, \"Nazario_5.csv\", fuzzy=True, quiet=False)\n",
    "\n"
   ]
  },
  {
   "cell_type": "code",
   "execution_count": 44,
   "metadata": {},
   "outputs": [],
   "source": [
    "def cleaning(text):\n",
    "\n",
    "    # Ensure correct data type\n",
    "    text = str(text) \n",
    "\n",
    "    # Lowercasing\n",
    "    text = text.lower()\n",
    "    \n",
    "    text = re.sub(r'^(from|to|cc|bcc|subject|sent|date):.*?\\n', '', text, flags=re.MULTILINE | re.IGNORECASE) # Remove email headers\n",
    "    text = re.sub(r\"https?://\\S+|www\\.\\S+\", \"\", text)  # Remove URLs\n",
    "    text = re.sub(r\"^(subject: re :|subject:)\\s*\", \"\", text) # Remove repetitive words\n",
    "    text = re.sub(r\"[^a-z\\s]\", \"\", text)  # Keep only alphabets and spaces (removes non-Latin characters like Chinese, Korean)\n",
    "    text = re.sub(\"\\n\", \" \", text) # Remove new line indicator\n",
    "    text = re.sub(r'\\s+', ' ', text).strip() # Remove excessive whitespace\n",
    "\n",
    "    return text"
   ]
  },
  {
   "cell_type": "code",
   "execution_count": 45,
   "metadata": {},
   "outputs": [],
   "source": [
    "# pip install langdetect"
   ]
  },
  {
   "cell_type": "code",
   "execution_count": 46,
   "metadata": {},
   "outputs": [],
   "source": [
    "from langdetect import detect\n",
    "from langdetect.lang_detect_exception import LangDetectException"
   ]
  },
  {
   "cell_type": "code",
   "execution_count": 47,
   "metadata": {},
   "outputs": [],
   "source": [
    "def get_language(text):\n",
    "    try:\n",
    "        cleaned_text = str(text).strip()\n",
    "        if not cleaned_text:\n",
    "            return 'empty' \n",
    "        lang = detect(cleaned_text)\n",
    "        return lang\n",
    "    \n",
    "    except LangDetectException:\n",
    "        # cannto detect language\n",
    "        return 'unknown'\n",
    "    \n",
    "    except Exception as e:\n",
    "        # in case of unexpected error\n",
    "        return 'error'"
   ]
  },
  {
   "cell_type": "code",
   "execution_count": 50,
   "metadata": {},
   "outputs": [
    {
     "ename": "FileNotFoundError",
     "evalue": "[Errno 2] No such file or directory: 'emails.csv'",
     "output_type": "error",
     "traceback": [
      "\u001b[0;31m---------------------------------------------------------------------------\u001b[0m",
      "\u001b[0;31mFileNotFoundError\u001b[0m                         Traceback (most recent call last)",
      "Cell \u001b[0;32mIn[50], line 1\u001b[0m\n\u001b[0;32m----> 1\u001b[0m df \u001b[38;5;241m=\u001b[39m \u001b[43mpd\u001b[49m\u001b[38;5;241;43m.\u001b[39;49m\u001b[43mread_csv\u001b[49m\u001b[43m(\u001b[49m\u001b[38;5;124;43m\"\u001b[39;49m\u001b[38;5;124;43memails.csv\u001b[39;49m\u001b[38;5;124;43m\"\u001b[39;49m\u001b[43m)\u001b[49m\n\u001b[1;32m      2\u001b[0m df[\u001b[38;5;124m'\u001b[39m\u001b[38;5;124mbody\u001b[39m\u001b[38;5;124m'\u001b[39m] \u001b[38;5;241m=\u001b[39m df[\u001b[38;5;124m'\u001b[39m\u001b[38;5;124mtext\u001b[39m\u001b[38;5;124m'\u001b[39m]\n\u001b[1;32m      3\u001b[0m df[\u001b[38;5;124m'\u001b[39m\u001b[38;5;124mlabel\u001b[39m\u001b[38;5;124m'\u001b[39m] \u001b[38;5;241m=\u001b[39m df[\u001b[38;5;124m'\u001b[39m\u001b[38;5;124mspam\u001b[39m\u001b[38;5;124m'\u001b[39m]\n",
      "File \u001b[0;32m/Library/Frameworks/Python.framework/Versions/3.12/lib/python3.12/site-packages/pandas/io/parsers/readers.py:1026\u001b[0m, in \u001b[0;36mread_csv\u001b[0;34m(filepath_or_buffer, sep, delimiter, header, names, index_col, usecols, dtype, engine, converters, true_values, false_values, skipinitialspace, skiprows, skipfooter, nrows, na_values, keep_default_na, na_filter, verbose, skip_blank_lines, parse_dates, infer_datetime_format, keep_date_col, date_parser, date_format, dayfirst, cache_dates, iterator, chunksize, compression, thousands, decimal, lineterminator, quotechar, quoting, doublequote, escapechar, comment, encoding, encoding_errors, dialect, on_bad_lines, delim_whitespace, low_memory, memory_map, float_precision, storage_options, dtype_backend)\u001b[0m\n\u001b[1;32m   1013\u001b[0m kwds_defaults \u001b[38;5;241m=\u001b[39m _refine_defaults_read(\n\u001b[1;32m   1014\u001b[0m     dialect,\n\u001b[1;32m   1015\u001b[0m     delimiter,\n\u001b[0;32m   (...)\u001b[0m\n\u001b[1;32m   1022\u001b[0m     dtype_backend\u001b[38;5;241m=\u001b[39mdtype_backend,\n\u001b[1;32m   1023\u001b[0m )\n\u001b[1;32m   1024\u001b[0m kwds\u001b[38;5;241m.\u001b[39mupdate(kwds_defaults)\n\u001b[0;32m-> 1026\u001b[0m \u001b[38;5;28;01mreturn\u001b[39;00m \u001b[43m_read\u001b[49m\u001b[43m(\u001b[49m\u001b[43mfilepath_or_buffer\u001b[49m\u001b[43m,\u001b[49m\u001b[43m \u001b[49m\u001b[43mkwds\u001b[49m\u001b[43m)\u001b[49m\n",
      "File \u001b[0;32m/Library/Frameworks/Python.framework/Versions/3.12/lib/python3.12/site-packages/pandas/io/parsers/readers.py:620\u001b[0m, in \u001b[0;36m_read\u001b[0;34m(filepath_or_buffer, kwds)\u001b[0m\n\u001b[1;32m    617\u001b[0m _validate_names(kwds\u001b[38;5;241m.\u001b[39mget(\u001b[38;5;124m\"\u001b[39m\u001b[38;5;124mnames\u001b[39m\u001b[38;5;124m\"\u001b[39m, \u001b[38;5;28;01mNone\u001b[39;00m))\n\u001b[1;32m    619\u001b[0m \u001b[38;5;66;03m# Create the parser.\u001b[39;00m\n\u001b[0;32m--> 620\u001b[0m parser \u001b[38;5;241m=\u001b[39m \u001b[43mTextFileReader\u001b[49m\u001b[43m(\u001b[49m\u001b[43mfilepath_or_buffer\u001b[49m\u001b[43m,\u001b[49m\u001b[43m \u001b[49m\u001b[38;5;241;43m*\u001b[39;49m\u001b[38;5;241;43m*\u001b[39;49m\u001b[43mkwds\u001b[49m\u001b[43m)\u001b[49m\n\u001b[1;32m    622\u001b[0m \u001b[38;5;28;01mif\u001b[39;00m chunksize \u001b[38;5;129;01mor\u001b[39;00m iterator:\n\u001b[1;32m    623\u001b[0m     \u001b[38;5;28;01mreturn\u001b[39;00m parser\n",
      "File \u001b[0;32m/Library/Frameworks/Python.framework/Versions/3.12/lib/python3.12/site-packages/pandas/io/parsers/readers.py:1620\u001b[0m, in \u001b[0;36mTextFileReader.__init__\u001b[0;34m(self, f, engine, **kwds)\u001b[0m\n\u001b[1;32m   1617\u001b[0m     \u001b[38;5;28mself\u001b[39m\u001b[38;5;241m.\u001b[39moptions[\u001b[38;5;124m\"\u001b[39m\u001b[38;5;124mhas_index_names\u001b[39m\u001b[38;5;124m\"\u001b[39m] \u001b[38;5;241m=\u001b[39m kwds[\u001b[38;5;124m\"\u001b[39m\u001b[38;5;124mhas_index_names\u001b[39m\u001b[38;5;124m\"\u001b[39m]\n\u001b[1;32m   1619\u001b[0m \u001b[38;5;28mself\u001b[39m\u001b[38;5;241m.\u001b[39mhandles: IOHandles \u001b[38;5;241m|\u001b[39m \u001b[38;5;28;01mNone\u001b[39;00m \u001b[38;5;241m=\u001b[39m \u001b[38;5;28;01mNone\u001b[39;00m\n\u001b[0;32m-> 1620\u001b[0m \u001b[38;5;28mself\u001b[39m\u001b[38;5;241m.\u001b[39m_engine \u001b[38;5;241m=\u001b[39m \u001b[38;5;28;43mself\u001b[39;49m\u001b[38;5;241;43m.\u001b[39;49m\u001b[43m_make_engine\u001b[49m\u001b[43m(\u001b[49m\u001b[43mf\u001b[49m\u001b[43m,\u001b[49m\u001b[43m \u001b[49m\u001b[38;5;28;43mself\u001b[39;49m\u001b[38;5;241;43m.\u001b[39;49m\u001b[43mengine\u001b[49m\u001b[43m)\u001b[49m\n",
      "File \u001b[0;32m/Library/Frameworks/Python.framework/Versions/3.12/lib/python3.12/site-packages/pandas/io/parsers/readers.py:1880\u001b[0m, in \u001b[0;36mTextFileReader._make_engine\u001b[0;34m(self, f, engine)\u001b[0m\n\u001b[1;32m   1878\u001b[0m     \u001b[38;5;28;01mif\u001b[39;00m \u001b[38;5;124m\"\u001b[39m\u001b[38;5;124mb\u001b[39m\u001b[38;5;124m\"\u001b[39m \u001b[38;5;129;01mnot\u001b[39;00m \u001b[38;5;129;01min\u001b[39;00m mode:\n\u001b[1;32m   1879\u001b[0m         mode \u001b[38;5;241m+\u001b[39m\u001b[38;5;241m=\u001b[39m \u001b[38;5;124m\"\u001b[39m\u001b[38;5;124mb\u001b[39m\u001b[38;5;124m\"\u001b[39m\n\u001b[0;32m-> 1880\u001b[0m \u001b[38;5;28mself\u001b[39m\u001b[38;5;241m.\u001b[39mhandles \u001b[38;5;241m=\u001b[39m \u001b[43mget_handle\u001b[49m\u001b[43m(\u001b[49m\n\u001b[1;32m   1881\u001b[0m \u001b[43m    \u001b[49m\u001b[43mf\u001b[49m\u001b[43m,\u001b[49m\n\u001b[1;32m   1882\u001b[0m \u001b[43m    \u001b[49m\u001b[43mmode\u001b[49m\u001b[43m,\u001b[49m\n\u001b[1;32m   1883\u001b[0m \u001b[43m    \u001b[49m\u001b[43mencoding\u001b[49m\u001b[38;5;241;43m=\u001b[39;49m\u001b[38;5;28;43mself\u001b[39;49m\u001b[38;5;241;43m.\u001b[39;49m\u001b[43moptions\u001b[49m\u001b[38;5;241;43m.\u001b[39;49m\u001b[43mget\u001b[49m\u001b[43m(\u001b[49m\u001b[38;5;124;43m\"\u001b[39;49m\u001b[38;5;124;43mencoding\u001b[39;49m\u001b[38;5;124;43m\"\u001b[39;49m\u001b[43m,\u001b[49m\u001b[43m \u001b[49m\u001b[38;5;28;43;01mNone\u001b[39;49;00m\u001b[43m)\u001b[49m\u001b[43m,\u001b[49m\n\u001b[1;32m   1884\u001b[0m \u001b[43m    \u001b[49m\u001b[43mcompression\u001b[49m\u001b[38;5;241;43m=\u001b[39;49m\u001b[38;5;28;43mself\u001b[39;49m\u001b[38;5;241;43m.\u001b[39;49m\u001b[43moptions\u001b[49m\u001b[38;5;241;43m.\u001b[39;49m\u001b[43mget\u001b[49m\u001b[43m(\u001b[49m\u001b[38;5;124;43m\"\u001b[39;49m\u001b[38;5;124;43mcompression\u001b[39;49m\u001b[38;5;124;43m\"\u001b[39;49m\u001b[43m,\u001b[49m\u001b[43m \u001b[49m\u001b[38;5;28;43;01mNone\u001b[39;49;00m\u001b[43m)\u001b[49m\u001b[43m,\u001b[49m\n\u001b[1;32m   1885\u001b[0m \u001b[43m    \u001b[49m\u001b[43mmemory_map\u001b[49m\u001b[38;5;241;43m=\u001b[39;49m\u001b[38;5;28;43mself\u001b[39;49m\u001b[38;5;241;43m.\u001b[39;49m\u001b[43moptions\u001b[49m\u001b[38;5;241;43m.\u001b[39;49m\u001b[43mget\u001b[49m\u001b[43m(\u001b[49m\u001b[38;5;124;43m\"\u001b[39;49m\u001b[38;5;124;43mmemory_map\u001b[39;49m\u001b[38;5;124;43m\"\u001b[39;49m\u001b[43m,\u001b[49m\u001b[43m \u001b[49m\u001b[38;5;28;43;01mFalse\u001b[39;49;00m\u001b[43m)\u001b[49m\u001b[43m,\u001b[49m\n\u001b[1;32m   1886\u001b[0m \u001b[43m    \u001b[49m\u001b[43mis_text\u001b[49m\u001b[38;5;241;43m=\u001b[39;49m\u001b[43mis_text\u001b[49m\u001b[43m,\u001b[49m\n\u001b[1;32m   1887\u001b[0m \u001b[43m    \u001b[49m\u001b[43merrors\u001b[49m\u001b[38;5;241;43m=\u001b[39;49m\u001b[38;5;28;43mself\u001b[39;49m\u001b[38;5;241;43m.\u001b[39;49m\u001b[43moptions\u001b[49m\u001b[38;5;241;43m.\u001b[39;49m\u001b[43mget\u001b[49m\u001b[43m(\u001b[49m\u001b[38;5;124;43m\"\u001b[39;49m\u001b[38;5;124;43mencoding_errors\u001b[39;49m\u001b[38;5;124;43m\"\u001b[39;49m\u001b[43m,\u001b[49m\u001b[43m \u001b[49m\u001b[38;5;124;43m\"\u001b[39;49m\u001b[38;5;124;43mstrict\u001b[39;49m\u001b[38;5;124;43m\"\u001b[39;49m\u001b[43m)\u001b[49m\u001b[43m,\u001b[49m\n\u001b[1;32m   1888\u001b[0m \u001b[43m    \u001b[49m\u001b[43mstorage_options\u001b[49m\u001b[38;5;241;43m=\u001b[39;49m\u001b[38;5;28;43mself\u001b[39;49m\u001b[38;5;241;43m.\u001b[39;49m\u001b[43moptions\u001b[49m\u001b[38;5;241;43m.\u001b[39;49m\u001b[43mget\u001b[49m\u001b[43m(\u001b[49m\u001b[38;5;124;43m\"\u001b[39;49m\u001b[38;5;124;43mstorage_options\u001b[39;49m\u001b[38;5;124;43m\"\u001b[39;49m\u001b[43m,\u001b[49m\u001b[43m \u001b[49m\u001b[38;5;28;43;01mNone\u001b[39;49;00m\u001b[43m)\u001b[49m\u001b[43m,\u001b[49m\n\u001b[1;32m   1889\u001b[0m \u001b[43m\u001b[49m\u001b[43m)\u001b[49m\n\u001b[1;32m   1890\u001b[0m \u001b[38;5;28;01massert\u001b[39;00m \u001b[38;5;28mself\u001b[39m\u001b[38;5;241m.\u001b[39mhandles \u001b[38;5;129;01mis\u001b[39;00m \u001b[38;5;129;01mnot\u001b[39;00m \u001b[38;5;28;01mNone\u001b[39;00m\n\u001b[1;32m   1891\u001b[0m f \u001b[38;5;241m=\u001b[39m \u001b[38;5;28mself\u001b[39m\u001b[38;5;241m.\u001b[39mhandles\u001b[38;5;241m.\u001b[39mhandle\n",
      "File \u001b[0;32m/Library/Frameworks/Python.framework/Versions/3.12/lib/python3.12/site-packages/pandas/io/common.py:873\u001b[0m, in \u001b[0;36mget_handle\u001b[0;34m(path_or_buf, mode, encoding, compression, memory_map, is_text, errors, storage_options)\u001b[0m\n\u001b[1;32m    868\u001b[0m \u001b[38;5;28;01melif\u001b[39;00m \u001b[38;5;28misinstance\u001b[39m(handle, \u001b[38;5;28mstr\u001b[39m):\n\u001b[1;32m    869\u001b[0m     \u001b[38;5;66;03m# Check whether the filename is to be opened in binary mode.\u001b[39;00m\n\u001b[1;32m    870\u001b[0m     \u001b[38;5;66;03m# Binary mode does not support 'encoding' and 'newline'.\u001b[39;00m\n\u001b[1;32m    871\u001b[0m     \u001b[38;5;28;01mif\u001b[39;00m ioargs\u001b[38;5;241m.\u001b[39mencoding \u001b[38;5;129;01mand\u001b[39;00m \u001b[38;5;124m\"\u001b[39m\u001b[38;5;124mb\u001b[39m\u001b[38;5;124m\"\u001b[39m \u001b[38;5;129;01mnot\u001b[39;00m \u001b[38;5;129;01min\u001b[39;00m ioargs\u001b[38;5;241m.\u001b[39mmode:\n\u001b[1;32m    872\u001b[0m         \u001b[38;5;66;03m# Encoding\u001b[39;00m\n\u001b[0;32m--> 873\u001b[0m         handle \u001b[38;5;241m=\u001b[39m \u001b[38;5;28;43mopen\u001b[39;49m\u001b[43m(\u001b[49m\n\u001b[1;32m    874\u001b[0m \u001b[43m            \u001b[49m\u001b[43mhandle\u001b[49m\u001b[43m,\u001b[49m\n\u001b[1;32m    875\u001b[0m \u001b[43m            \u001b[49m\u001b[43mioargs\u001b[49m\u001b[38;5;241;43m.\u001b[39;49m\u001b[43mmode\u001b[49m\u001b[43m,\u001b[49m\n\u001b[1;32m    876\u001b[0m \u001b[43m            \u001b[49m\u001b[43mencoding\u001b[49m\u001b[38;5;241;43m=\u001b[39;49m\u001b[43mioargs\u001b[49m\u001b[38;5;241;43m.\u001b[39;49m\u001b[43mencoding\u001b[49m\u001b[43m,\u001b[49m\n\u001b[1;32m    877\u001b[0m \u001b[43m            \u001b[49m\u001b[43merrors\u001b[49m\u001b[38;5;241;43m=\u001b[39;49m\u001b[43merrors\u001b[49m\u001b[43m,\u001b[49m\n\u001b[1;32m    878\u001b[0m \u001b[43m            \u001b[49m\u001b[43mnewline\u001b[49m\u001b[38;5;241;43m=\u001b[39;49m\u001b[38;5;124;43m\"\u001b[39;49m\u001b[38;5;124;43m\"\u001b[39;49m\u001b[43m,\u001b[49m\n\u001b[1;32m    879\u001b[0m \u001b[43m        \u001b[49m\u001b[43m)\u001b[49m\n\u001b[1;32m    880\u001b[0m     \u001b[38;5;28;01melse\u001b[39;00m:\n\u001b[1;32m    881\u001b[0m         \u001b[38;5;66;03m# Binary mode\u001b[39;00m\n\u001b[1;32m    882\u001b[0m         handle \u001b[38;5;241m=\u001b[39m \u001b[38;5;28mopen\u001b[39m(handle, ioargs\u001b[38;5;241m.\u001b[39mmode)\n",
      "\u001b[0;31mFileNotFoundError\u001b[0m: [Errno 2] No such file or directory: 'emails.csv'"
     ]
    }
   ],
   "source": [
    "df = pd.read_csv(\"emails.csv\")\n",
    "df['body'] = df['text']\n",
    "df['label'] = df['spam']\n",
    "df['cleaned_body'] = df['body'].apply(cleaning)\n",
    "df['language'] = df['cleaned_body'].apply(get_language)"
   ]
  },
  {
   "cell_type": "code",
   "execution_count": null,
   "metadata": {},
   "outputs": [
    {
     "data": {
      "text/plain": [
       "language\n",
       "en    5672\n",
       "pl      27\n",
       "fr       6\n",
       "nl       4\n",
       "de       3\n",
       "it       2\n",
       "sw       2\n",
       "pt       2\n",
       "sv       2\n",
       "es       2\n",
       "tr       1\n",
       "so       1\n",
       "cy       1\n",
       "no       1\n",
       "af       1\n",
       "sl       1\n",
       "Name: count, dtype: int64"
      ]
     },
     "execution_count": 7,
     "metadata": {},
     "output_type": "execute_result"
    }
   ],
   "source": [
    "df['language'].value_counts()"
   ]
  },
  {
   "cell_type": "code",
   "execution_count": null,
   "metadata": {},
   "outputs": [
    {
     "data": {
      "text/html": [
       "<div>\n",
       "<style scoped>\n",
       "    .dataframe tbody tr th:only-of-type {\n",
       "        vertical-align: middle;\n",
       "    }\n",
       "\n",
       "    .dataframe tbody tr th {\n",
       "        vertical-align: top;\n",
       "    }\n",
       "\n",
       "    .dataframe thead th {\n",
       "        text-align: right;\n",
       "    }\n",
       "</style>\n",
       "<table border=\"1\" class=\"dataframe\">\n",
       "  <thead>\n",
       "    <tr style=\"text-align: right;\">\n",
       "      <th></th>\n",
       "      <th>text</th>\n",
       "      <th>spam</th>\n",
       "      <th>body</th>\n",
       "      <th>label</th>\n",
       "      <th>cleaned_body</th>\n",
       "      <th>language</th>\n",
       "    </tr>\n",
       "  </thead>\n",
       "  <tbody>\n",
       "    <tr>\n",
       "      <th>3498</th>\n",
       "      <td>Subject: re : zakup ksiazki \" inzynieria finan...</td>\n",
       "      <td>0</td>\n",
       "      <td>Subject: re : zakup ksiazki \" inzynieria finan...</td>\n",
       "      <td>0</td>\n",
       "      <td>zakup ksiazki inzynieria finansowa w wnt pani ...</td>\n",
       "      <td>pl</td>\n",
       "    </tr>\n",
       "    <tr>\n",
       "      <th>1804</th>\n",
       "      <td>Subject: term paper  stuart ,  i cannot open y...</td>\n",
       "      <td>0</td>\n",
       "      <td>Subject: term paper  stuart ,  i cannot open y...</td>\n",
       "      <td>0</td>\n",
       "      <td>term paper stuart i cannot open your attachmen...</td>\n",
       "      <td>sv</td>\n",
       "    </tr>\n",
       "    <tr>\n",
       "      <th>5318</th>\n",
       "      <td>Subject: pd : praca dyplomowa v edycja mba  ? ...</td>\n",
       "      <td>0</td>\n",
       "      <td>Subject: pd : praca dyplomowa v edycja mba  ? ...</td>\n",
       "      <td>0</td>\n",
       "      <td>pd praca dyplomowa v edycja mba original messa...</td>\n",
       "      <td>pl</td>\n",
       "    </tr>\n",
       "    <tr>\n",
       "      <th>1705</th>\n",
       "      <td>Subject: re : fwd : praca dyplomowa v edycja m...</td>\n",
       "      <td>0</td>\n",
       "      <td>Subject: re : fwd : praca dyplomowa v edycja m...</td>\n",
       "      <td>0</td>\n",
       "      <td>fwd praca dyplomowa v edycja mba warszawa pani...</td>\n",
       "      <td>pl</td>\n",
       "    </tr>\n",
       "    <tr>\n",
       "      <th>592</th>\n",
       "      <td>Subject: free lancer eventos  free lancer even...</td>\n",
       "      <td>1</td>\n",
       "      <td>Subject: free lancer eventos  free lancer even...</td>\n",
       "      <td>1</td>\n",
       "      <td>free lancer eventos free lancer eventos servio...</td>\n",
       "      <td>pt</td>\n",
       "    </tr>\n",
       "  </tbody>\n",
       "</table>\n",
       "</div>"
      ],
      "text/plain": [
       "                                                   text  spam  \\\n",
       "3498  Subject: re : zakup ksiazki \" inzynieria finan...     0   \n",
       "1804  Subject: term paper  stuart ,  i cannot open y...     0   \n",
       "5318  Subject: pd : praca dyplomowa v edycja mba  ? ...     0   \n",
       "1705  Subject: re : fwd : praca dyplomowa v edycja m...     0   \n",
       "592   Subject: free lancer eventos  free lancer even...     1   \n",
       "\n",
       "                                                   body  label  \\\n",
       "3498  Subject: re : zakup ksiazki \" inzynieria finan...      0   \n",
       "1804  Subject: term paper  stuart ,  i cannot open y...      0   \n",
       "5318  Subject: pd : praca dyplomowa v edycja mba  ? ...      0   \n",
       "1705  Subject: re : fwd : praca dyplomowa v edycja m...      0   \n",
       "592   Subject: free lancer eventos  free lancer even...      1   \n",
       "\n",
       "                                           cleaned_body language  \n",
       "3498  zakup ksiazki inzynieria finansowa w wnt pani ...       pl  \n",
       "1804  term paper stuart i cannot open your attachmen...       sv  \n",
       "5318  pd praca dyplomowa v edycja mba original messa...       pl  \n",
       "1705  fwd praca dyplomowa v edycja mba warszawa pani...       pl  \n",
       "592   free lancer eventos free lancer eventos servio...       pt  "
      ]
     },
     "execution_count": 8,
     "metadata": {},
     "output_type": "execute_result"
    }
   ],
   "source": [
    "df[df['language'] != 'en'].sample(5) # checking"
   ]
  },
  {
   "cell_type": "code",
   "execution_count": null,
   "metadata": {},
   "outputs": [
    {
     "data": {
      "text/html": [
       "<div>\n",
       "<style scoped>\n",
       "    .dataframe tbody tr th:only-of-type {\n",
       "        vertical-align: middle;\n",
       "    }\n",
       "\n",
       "    .dataframe tbody tr th {\n",
       "        vertical-align: top;\n",
       "    }\n",
       "\n",
       "    .dataframe thead th {\n",
       "        text-align: right;\n",
       "    }\n",
       "</style>\n",
       "<table border=\"1\" class=\"dataframe\">\n",
       "  <thead>\n",
       "    <tr style=\"text-align: right;\">\n",
       "      <th></th>\n",
       "      <th>body</th>\n",
       "      <th>cleaned_body</th>\n",
       "      <th>label</th>\n",
       "    </tr>\n",
       "  </thead>\n",
       "  <tbody>\n",
       "    <tr>\n",
       "      <th>5383</th>\n",
       "      <td>Subject: re : recommendation of an outstanding...</td>\n",
       "      <td>recommendation of an outstanding baylor mba st...</td>\n",
       "      <td>0</td>\n",
       "    </tr>\n",
       "    <tr>\n",
       "      <th>1552</th>\n",
       "      <td>Subject: best picks  hey ,  best picks are zig...</td>\n",
       "      <td>best picks hey best picks are zigo and smtx steve</td>\n",
       "      <td>0</td>\n",
       "    </tr>\n",
       "  </tbody>\n",
       "</table>\n",
       "</div>"
      ],
      "text/plain": [
       "                                                   body  \\\n",
       "5383  Subject: re : recommendation of an outstanding...   \n",
       "1552  Subject: best picks  hey ,  best picks are zig...   \n",
       "\n",
       "                                           cleaned_body  label  \n",
       "5383  recommendation of an outstanding baylor mba st...      0  \n",
       "1552  best picks hey best picks are zigo and smtx steve      0  "
      ]
     },
     "execution_count": 9,
     "metadata": {},
     "output_type": "execute_result"
    }
   ],
   "source": [
    "df1 = df.loc[df['language'] == 'en', ['body','cleaned_body', 'label']]\n",
    "df1.sample(2)"
   ]
  },
  {
   "cell_type": "code",
   "execution_count": null,
   "metadata": {},
   "outputs": [],
   "source": [
    "df = pd.read_csv(\"../data/raw/spam_ham_dataset.csv\")\n",
    "df['body'] = df['text']\n",
    "df['label'] = df['label_num']\n",
    "df['cleaned_body'] = df['body'].apply(cleaning)\n",
    "df['language'] = df['cleaned_body'].apply(get_language)"
   ]
  },
  {
   "cell_type": "code",
   "execution_count": null,
   "metadata": {},
   "outputs": [
    {
     "data": {
      "text/plain": [
       "language\n",
       "en       4898\n",
       "empty     110\n",
       "ca         54\n",
       "es         25\n",
       "nl         16\n",
       "fr         15\n",
       "de          9\n",
       "cy          8\n",
       "cs          4\n",
       "pt          3\n",
       "fi          3\n",
       "sk          3\n",
       "it          3\n",
       "hu          2\n",
       "sl          2\n",
       "da          2\n",
       "id          2\n",
       "et          2\n",
       "pl          2\n",
       "hr          1\n",
       "af          1\n",
       "sv          1\n",
       "lt          1\n",
       "tr          1\n",
       "sq          1\n",
       "sw          1\n",
       "so          1\n",
       "Name: count, dtype: int64"
      ]
     },
     "execution_count": 11,
     "metadata": {},
     "output_type": "execute_result"
    }
   ],
   "source": [
    "df['language'].value_counts()"
   ]
  },
  {
   "cell_type": "code",
   "execution_count": null,
   "metadata": {},
   "outputs": [
    {
     "data": {
      "text/plain": [
       "'Subject: discreet cheapest pr ! escription d \\\\ rugs online !\\r\\n'"
      ]
     },
     "execution_count": 12,
     "metadata": {},
     "output_type": "execute_result"
    }
   ],
   "source": [
    "df.loc[4407]['body'] # we can see that the cleaned body is empty as the body only had subject without content so we can remove them"
   ]
  },
  {
   "cell_type": "code",
   "execution_count": null,
   "metadata": {},
   "outputs": [
    {
     "data": {
      "text/html": [
       "<div>\n",
       "<style scoped>\n",
       "    .dataframe tbody tr th:only-of-type {\n",
       "        vertical-align: middle;\n",
       "    }\n",
       "\n",
       "    .dataframe tbody tr th {\n",
       "        vertical-align: top;\n",
       "    }\n",
       "\n",
       "    .dataframe thead th {\n",
       "        text-align: right;\n",
       "    }\n",
       "</style>\n",
       "<table border=\"1\" class=\"dataframe\">\n",
       "  <thead>\n",
       "    <tr style=\"text-align: right;\">\n",
       "      <th></th>\n",
       "      <th>Unnamed: 0</th>\n",
       "      <th>label</th>\n",
       "      <th>text</th>\n",
       "      <th>label_num</th>\n",
       "      <th>body</th>\n",
       "      <th>cleaned_body</th>\n",
       "      <th>language</th>\n",
       "    </tr>\n",
       "  </thead>\n",
       "  <tbody>\n",
       "    <tr>\n",
       "      <th>4407</th>\n",
       "      <td>3906</td>\n",
       "      <td>1</td>\n",
       "      <td>Subject: discreet cheapest pr ! escription d \\...</td>\n",
       "      <td>1</td>\n",
       "      <td>Subject: discreet cheapest pr ! escription d \\...</td>\n",
       "      <td></td>\n",
       "      <td>empty</td>\n",
       "    </tr>\n",
       "    <tr>\n",
       "      <th>3225</th>\n",
       "      <td>4442</td>\n",
       "      <td>1</td>\n",
       "      <td>Subject: you can be smart !\\r\\n</td>\n",
       "      <td>1</td>\n",
       "      <td>Subject: you can be smart !\\r\\n</td>\n",
       "      <td></td>\n",
       "      <td>empty</td>\n",
       "    </tr>\n",
       "  </tbody>\n",
       "</table>\n",
       "</div>"
      ],
      "text/plain": [
       "      Unnamed: 0  label                                               text  \\\n",
       "4407        3906      1  Subject: discreet cheapest pr ! escription d \\...   \n",
       "3225        4442      1                    Subject: you can be smart !\\r\\n   \n",
       "\n",
       "      label_num                                               body  \\\n",
       "4407          1  Subject: discreet cheapest pr ! escription d \\...   \n",
       "3225          1                    Subject: you can be smart !\\r\\n   \n",
       "\n",
       "     cleaned_body language  \n",
       "4407                 empty  \n",
       "3225                 empty  "
      ]
     },
     "execution_count": 13,
     "metadata": {},
     "output_type": "execute_result"
    }
   ],
   "source": [
    "df[df['language'] == 'empty'].sample(2)"
   ]
  },
  {
   "cell_type": "code",
   "execution_count": null,
   "metadata": {},
   "outputs": [
    {
     "data": {
      "text/html": [
       "<div>\n",
       "<style scoped>\n",
       "    .dataframe tbody tr th:only-of-type {\n",
       "        vertical-align: middle;\n",
       "    }\n",
       "\n",
       "    .dataframe tbody tr th {\n",
       "        vertical-align: top;\n",
       "    }\n",
       "\n",
       "    .dataframe thead th {\n",
       "        text-align: right;\n",
       "    }\n",
       "</style>\n",
       "<table border=\"1\" class=\"dataframe\">\n",
       "  <thead>\n",
       "    <tr style=\"text-align: right;\">\n",
       "      <th></th>\n",
       "      <th>body</th>\n",
       "      <th>cleaned_body</th>\n",
       "      <th>label</th>\n",
       "    </tr>\n",
       "  </thead>\n",
       "  <tbody>\n",
       "    <tr>\n",
       "      <th>861</th>\n",
       "      <td>Subject: re : 98 - 6719 and 98 - 9676\\r\\nyes ,...</td>\n",
       "      <td>yes it is a gtc spot daren j farmer pm to juli...</td>\n",
       "      <td>0</td>\n",
       "    </tr>\n",
       "    <tr>\n",
       "      <th>723</th>\n",
       "      <td>Subject: net out with kinder morgan - beginnin...</td>\n",
       "      <td>megan kim please make a note that we did a dea...</td>\n",
       "      <td>0</td>\n",
       "    </tr>\n",
       "  </tbody>\n",
       "</table>\n",
       "</div>"
      ],
      "text/plain": [
       "                                                  body  \\\n",
       "861  Subject: re : 98 - 6719 and 98 - 9676\\r\\nyes ,...   \n",
       "723  Subject: net out with kinder morgan - beginnin...   \n",
       "\n",
       "                                          cleaned_body  label  \n",
       "861  yes it is a gtc spot daren j farmer pm to juli...      0  \n",
       "723  megan kim please make a note that we did a dea...      0  "
      ]
     },
     "execution_count": 14,
     "metadata": {},
     "output_type": "execute_result"
    }
   ],
   "source": [
    "df2 = df.loc[df['language'] == 'en', ['body','cleaned_body', 'label']] # removes all entries that are not english\n",
    "df2.sample(2)"
   ]
  },
  {
   "cell_type": "code",
   "execution_count": null,
   "metadata": {},
   "outputs": [],
   "source": [
    "df = pd.concat([df1,df2], ignore_index=True)\n",
    "\n",
    "\"\"\"\"\n",
    "df = pd.read_csv(\"../raw/spam_ham_dataset.csv\")\n",
    "df['body'] = df['text']\n",
    "df['label'] = df['label_num']\n",
    "df['cleaned_body'] = df['body'].apply(cleaning)\n",
    "df['language'] = df['cleaned_body'].apply(get_language)\n",
    "df1 = df.loc[df['language'] == 'en', ['body','cleaned_body', 'label']]\n",
    "\"\"\"\n",
    "\n",
    "lst_standard_datasets = [\"CEAS_08.csv\", \"Enron.csv\", \"Ling.csv\", \"SpamAssasin.csv\", \"TREC_07.csv\", \"Nigerian_5.csv\", \"Nazario_5.csv\"]\n",
    "\n",
    "for dataset in lst_standard_datasets:\n",
    "    temp_df = pd.read_csv(\"../data/raw/\"+dataset)[['body','label']]\n",
    "    temp_df['cleaned_body'] = temp_df['body'].apply(cleaning)\n",
    "    temp_df['language'] = temp_df['cleaned_body'].apply(get_language)\n",
    "    df = pd.concat([df, temp_df.loc[temp_df['language'] == 'en', ['body', 'cleaned_body', 'label']]], ignore_index=True)\n"
   ]
  },
  {
   "cell_type": "code",
   "execution_count": null,
   "metadata": {},
   "outputs": [
    {
     "name": "stdout",
     "output_type": "stream",
     "text": [
      "<class 'pandas.core.frame.DataFrame'>\n",
      "RangeIndex: 149378 entries, 0 to 149377\n",
      "Data columns (total 3 columns):\n",
      " #   Column        Non-Null Count   Dtype \n",
      "---  ------        --------------   ----- \n",
      " 0   body          149378 non-null  object\n",
      " 1   cleaned_body  149378 non-null  object\n",
      " 2   label         149378 non-null  int64 \n",
      "dtypes: int64(1), object(2)\n",
      "memory usage: 3.4+ MB\n"
     ]
    }
   ],
   "source": [
    "df.info()"
   ]
  },
  {
   "cell_type": "code",
   "execution_count": null,
   "metadata": {},
   "outputs": [
    {
     "data": {
      "text/html": [
       "<div>\n",
       "<style scoped>\n",
       "    .dataframe tbody tr th:only-of-type {\n",
       "        vertical-align: middle;\n",
       "    }\n",
       "\n",
       "    .dataframe tbody tr th {\n",
       "        vertical-align: top;\n",
       "    }\n",
       "\n",
       "    .dataframe thead th {\n",
       "        text-align: right;\n",
       "    }\n",
       "</style>\n",
       "<table border=\"1\" class=\"dataframe\">\n",
       "  <thead>\n",
       "    <tr style=\"text-align: right;\">\n",
       "      <th></th>\n",
       "      <th>body</th>\n",
       "      <th>cleaned_body</th>\n",
       "      <th>label</th>\n",
       "    </tr>\n",
       "  </thead>\n",
       "  <tbody>\n",
       "    <tr>\n",
       "      <th>87023</th>\n",
       "      <td>Anatrim � The newest and most fascinating fles...</td>\n",
       "      <td>anatrim the newest and most fascinating flesh ...</td>\n",
       "      <td>1</td>\n",
       "    </tr>\n",
       "    <tr>\n",
       "      <th>83672</th>\n",
       "      <td>Liam Bedford stated the following:\\n&gt; \\n&gt; On W...</td>\n",
       "      <td>liam bedford stated the following on wed jul s...</td>\n",
       "      <td>0</td>\n",
       "    </tr>\n",
       "    <tr>\n",
       "      <th>107346</th>\n",
       "      <td>\\n\\n\\n\\n\\n\\nYour credit doesn't matter to us!\\...</td>\n",
       "      <td>your credit doesnt matter to us if you own rea...</td>\n",
       "      <td>1</td>\n",
       "    </tr>\n",
       "    <tr>\n",
       "      <th>95595</th>\n",
       "      <td>Hi yitzle,\\n\\nThe reason to escape @ inside a ...</td>\n",
       "      <td>hi yitzle the reason to escape inside a double...</td>\n",
       "      <td>0</td>\n",
       "    </tr>\n",
       "    <tr>\n",
       "      <th>142989</th>\n",
       "      <td>\\nFROM THE DESK OF BILL AND EXCHANGE MANAGER,\\...</td>\n",
       "      <td>from the desk of bill and exchange manager dr ...</td>\n",
       "      <td>1</td>\n",
       "    </tr>\n",
       "  </tbody>\n",
       "</table>\n",
       "</div>"
      ],
      "text/plain": [
       "                                                     body  \\\n",
       "87023   Anatrim � The newest and most fascinating fles...   \n",
       "83672   Liam Bedford stated the following:\\n> \\n> On W...   \n",
       "107346  \\n\\n\\n\\n\\n\\nYour credit doesn't matter to us!\\...   \n",
       "95595   Hi yitzle,\\n\\nThe reason to escape @ inside a ...   \n",
       "142989  \\nFROM THE DESK OF BILL AND EXCHANGE MANAGER,\\...   \n",
       "\n",
       "                                             cleaned_body  label  \n",
       "87023   anatrim the newest and most fascinating flesh ...      1  \n",
       "83672   liam bedford stated the following on wed jul s...      0  \n",
       "107346  your credit doesnt matter to us if you own rea...      1  \n",
       "95595   hi yitzle the reason to escape inside a double...      0  \n",
       "142989  from the desk of bill and exchange manager dr ...      1  "
      ]
     },
     "execution_count": 17,
     "metadata": {},
     "output_type": "execute_result"
    }
   ],
   "source": [
    "df.sample(5)"
   ]
  },
  {
   "cell_type": "code",
   "execution_count": null,
   "metadata": {},
   "outputs": [
    {
     "data": {
      "text/plain": [
       "body            0\n",
       "cleaned_body    0\n",
       "label           0\n",
       "dtype: int64"
      ]
     },
     "execution_count": 18,
     "metadata": {},
     "output_type": "execute_result"
    }
   ],
   "source": [
    "df.isna().sum()"
   ]
  },
  {
   "cell_type": "code",
   "execution_count": null,
   "metadata": {},
   "outputs": [
    {
     "data": {
      "text/plain": [
       "23438"
      ]
     },
     "execution_count": 19,
     "metadata": {},
     "output_type": "execute_result"
    }
   ],
   "source": [
    "df['cleaned_body'].duplicated().sum()"
   ]
  },
  {
   "cell_type": "code",
   "execution_count": null,
   "metadata": {},
   "outputs": [
    {
     "data": {
      "text/plain": [
       "0"
      ]
     },
     "execution_count": 20,
     "metadata": {},
     "output_type": "execute_result"
    }
   ],
   "source": [
    "df.drop_duplicates(subset = ['cleaned_body'], inplace=True)\n",
    "df['cleaned_body'].duplicated().sum()"
   ]
  },
  {
   "cell_type": "code",
   "execution_count": null,
   "metadata": {},
   "outputs": [],
   "source": [
    "import nltk\n",
    "import re\n",
    "from nltk.tokenize import word_tokenize\n",
    "from nltk.corpus import stopwords\n",
    "from nltk.stem import WordNetLemmatizer"
   ]
  },
  {
   "cell_type": "markdown",
   "metadata": {},
   "source": [
    "## Feature Engineering (POS Tagging) (needs to be done before the words are preprocessed where there's inevitable removal of some info)\n",
    "\n",
    "Explanation:\n",
    "The order of POS tags might be a strong signal. Certain patterns might be more common in spam messages than in legitimate texts. For example:\n",
    "1. direct commands followed by a noun. POS Tag sequence: Verb (VB*) → Determiner (DT) → Noun (NN*) E.g. \"Claim this prize (now!)\"\n",
    "2. aggressively combining adjectives with action-driven verbs. POS Tag sequence: Verb (VB*) → Adjective (JJ) → Noun (NN*) E.g. \"Get amazing rewards (today!)\"\n",
    "3. use of urgency-driven modals. POS Tag sequence: Noun (NN/NNS) → Modal Verb (MD) → Verb (VB) E.g. \"You must act (now!)\"\n",
    "\n",
    "Assumptions made: Minimal spelling errors made, sentences are grammatically accurate and nltk's `pos_tag()` function is reliable"
   ]
  },
  {
   "cell_type": "code",
   "execution_count": null,
   "metadata": {},
   "outputs": [],
   "source": [
    "##############################################\n",
    "#              ADDED POS TAGGING HERE\n",
    "##############################################\n",
    "\n",
    "def get_pos_tags(text): #str -> list of POS tags \n",
    "    try:\n",
    "        tokens = nltk.word_tokenize(text)\n",
    "        tags = [tag for word, tag in nltk.pos_tag(tokens)]\n",
    "        return tags\n",
    "    except Exception:\n",
    "        return [] # Handle potential errors\n",
    "\n",
    "def count_vb_dt_nn(pos_tags):\n",
    "    \"\"\"\n",
    "    Counts occurrences of the POS tag sequence: \n",
    "    - VB* (any verb form) \n",
    "    - DT (determiner) \n",
    "    - NN* (any noun form)\n",
    "    \"\"\"\n",
    "    pattern = re.compile(r'VB\\w* DT NN\\w*')  # Regex to match VB* -> DT -> NN*\n",
    "    # Convert list into a space-separated string of POS tags\n",
    "    pos_sequence = \" \".join(pos_tags)\n",
    "    # Find all matches\n",
    "    matches = pattern.findall(pos_sequence)\n",
    "    return len(matches)\n",
    "\n",
    "def count_vb_jj_nn(pos_tags):\n",
    "    \"\"\"\n",
    "    Counts occurrences of the POS tag sequence: \n",
    "    - VB* (any verb form) \n",
    "    - JJ (adjective) \n",
    "    - NN* (any noun form)\n",
    "    \"\"\"\n",
    "    pattern = re.compile(r'VB\\w* JJ NN\\w*')\n",
    "    # Convert list into a space-separated string of POS tags\n",
    "    pos_sequence = \" \".join(pos_tags)\n",
    "    # Find all matches\n",
    "    matches = pattern.findall(pos_sequence)\n",
    "    return len(matches)\n",
    "\n",
    "def count_nn_md_vb(pos_tags):\n",
    "    \"\"\"\n",
    "    Counts occurrences of the POS tag sequence: \n",
    "    - NN* (any noun form) \n",
    "    - MD (modal e.g. must, should) \n",
    "    - VB* (any verb form)\n",
    "    \"\"\"\n",
    "    pattern = re.compile(r'NN\\w* MD VB\\w*') \n",
    "    # Convert list into a space-separated string of POS tags\n",
    "    pos_sequence = \" \".join(pos_tags)\n",
    "    # Find all matches\n",
    "    matches = pattern.findall(pos_sequence)\n",
    "    return len(matches)\n",
    "\n",
    "##############################################\n",
    "#           ADDED POS TAGGING HERE\n",
    "##############################################\n",
    "\n",
    "df['pos_tags'] = df['cleaned_body'].apply(get_pos_tags)\n",
    "df['percentage_vb_dt_nn'] = (df['pos_tags'].apply(count_vb_dt_nn)) / (df['pos_tags'].apply(len)) * 100\n",
    "df['percentage_vb_jj_nn'] = (df['pos_tags'].apply(count_vb_jj_nn)) / (df['pos_tags'].apply(len)) * 100\n",
    "df['percentage_nn_md_vb'] = (df['pos_tags'].apply(count_nn_md_vb)) / (df['pos_tags'].apply(len)) * 100"
   ]
  },
  {
   "cell_type": "code",
   "execution_count": null,
   "metadata": {},
   "outputs": [
    {
     "data": {
      "text/html": [
       "<div>\n",
       "<style scoped>\n",
       "    .dataframe tbody tr th:only-of-type {\n",
       "        vertical-align: middle;\n",
       "    }\n",
       "\n",
       "    .dataframe tbody tr th {\n",
       "        vertical-align: top;\n",
       "    }\n",
       "\n",
       "    .dataframe thead th {\n",
       "        text-align: right;\n",
       "    }\n",
       "</style>\n",
       "<table border=\"1\" class=\"dataframe\">\n",
       "  <thead>\n",
       "    <tr style=\"text-align: right;\">\n",
       "      <th></th>\n",
       "      <th>body</th>\n",
       "      <th>cleaned_body</th>\n",
       "      <th>label</th>\n",
       "      <th>pos_tags</th>\n",
       "      <th>percentage_vb_dt_nn</th>\n",
       "      <th>percentage_vb_jj_nn</th>\n",
       "      <th>percentage_nn_md_vb</th>\n",
       "      <th>tokens</th>\n",
       "    </tr>\n",
       "  </thead>\n",
       "  <tbody>\n",
       "    <tr>\n",
       "      <th>0</th>\n",
       "      <td>Subject: naturally irresistible your corporate...</td>\n",
       "      <td>naturally irresistible your corporate identity...</td>\n",
       "      <td>1</td>\n",
       "      <td>[RB, JJ, PRP$, JJ, NN, NN, VBZ, RB, JJ, TO, VB...</td>\n",
       "      <td>3.743316</td>\n",
       "      <td>2.139037</td>\n",
       "      <td>1.069519</td>\n",
       "      <td>[naturally, irresistible, corporate, identity,...</td>\n",
       "    </tr>\n",
       "    <tr>\n",
       "      <th>1</th>\n",
       "      <td>Subject: the stock trading gunslinger  fanny i...</td>\n",
       "      <td>the stock trading gunslinger fanny is merrill ...</td>\n",
       "      <td>1</td>\n",
       "      <td>[DT, NN, NN, NN, NN, VBZ, RB, CC, VBZ, RB, JJ,...</td>\n",
       "      <td>0.000000</td>\n",
       "      <td>0.000000</td>\n",
       "      <td>0.000000</td>\n",
       "      <td>[stock, trading, gunslinger, fanny, merrill, m...</td>\n",
       "    </tr>\n",
       "    <tr>\n",
       "      <th>2</th>\n",
       "      <td>Subject: unbelievable new homes made easy  im ...</td>\n",
       "      <td>unbelievable new homes made easy im wanting to...</td>\n",
       "      <td>1</td>\n",
       "      <td>[JJ, JJ, NNS, VBN, JJ, JJ, VBG, TO, VB, PRP, D...</td>\n",
       "      <td>1.351351</td>\n",
       "      <td>0.000000</td>\n",
       "      <td>0.000000</td>\n",
       "      <td>[unbelievable, new, home, made, easy, im, want...</td>\n",
       "    </tr>\n",
       "    <tr>\n",
       "      <th>3</th>\n",
       "      <td>Subject: 4 color printing special  request add...</td>\n",
       "      <td>color printing special request additional info...</td>\n",
       "      <td>1</td>\n",
       "      <td>[NN, VBG, JJ, NN, JJ, NN, RB, VBZ, RB, NN, RB,...</td>\n",
       "      <td>1.562500</td>\n",
       "      <td>4.687500</td>\n",
       "      <td>0.000000</td>\n",
       "      <td>[color, printing, special, request, additional...</td>\n",
       "    </tr>\n",
       "    <tr>\n",
       "      <th>4</th>\n",
       "      <td>Subject: do not have money , get software cds ...</td>\n",
       "      <td>do not have money get software cds from here s...</td>\n",
       "      <td>1</td>\n",
       "      <td>[VBP, RB, VB, NN, NN, NN, NNS, IN, RB, NN, NN,...</td>\n",
       "      <td>2.564103</td>\n",
       "      <td>2.564103</td>\n",
       "      <td>0.000000</td>\n",
       "      <td>[money, get, software, cd, software, compatibi...</td>\n",
       "    </tr>\n",
       "  </tbody>\n",
       "</table>\n",
       "</div>"
      ],
      "text/plain": [
       "                                                body  \\\n",
       "0  Subject: naturally irresistible your corporate...   \n",
       "1  Subject: the stock trading gunslinger  fanny i...   \n",
       "2  Subject: unbelievable new homes made easy  im ...   \n",
       "3  Subject: 4 color printing special  request add...   \n",
       "4  Subject: do not have money , get software cds ...   \n",
       "\n",
       "                                        cleaned_body  label  \\\n",
       "0  naturally irresistible your corporate identity...      1   \n",
       "1  the stock trading gunslinger fanny is merrill ...      1   \n",
       "2  unbelievable new homes made easy im wanting to...      1   \n",
       "3  color printing special request additional info...      1   \n",
       "4  do not have money get software cds from here s...      1   \n",
       "\n",
       "                                            pos_tags  percentage_vb_dt_nn  \\\n",
       "0  [RB, JJ, PRP$, JJ, NN, NN, VBZ, RB, JJ, TO, VB...             3.743316   \n",
       "1  [DT, NN, NN, NN, NN, VBZ, RB, CC, VBZ, RB, JJ,...             0.000000   \n",
       "2  [JJ, JJ, NNS, VBN, JJ, JJ, VBG, TO, VB, PRP, D...             1.351351   \n",
       "3  [NN, VBG, JJ, NN, JJ, NN, RB, VBZ, RB, NN, RB,...             1.562500   \n",
       "4  [VBP, RB, VB, NN, NN, NN, NNS, IN, RB, NN, NN,...             2.564103   \n",
       "\n",
       "   percentage_vb_jj_nn  percentage_nn_md_vb  \\\n",
       "0             2.139037             1.069519   \n",
       "1             0.000000             0.000000   \n",
       "2             0.000000             0.000000   \n",
       "3             4.687500             0.000000   \n",
       "4             2.564103             0.000000   \n",
       "\n",
       "                                              tokens  \n",
       "0  [naturally, irresistible, corporate, identity,...  \n",
       "1  [stock, trading, gunslinger, fanny, merrill, m...  \n",
       "2  [unbelievable, new, home, made, easy, im, want...  \n",
       "3  [color, printing, special, request, additional...  \n",
       "4  [money, get, software, cd, software, compatibi...  "
      ]
     },
     "execution_count": 59,
     "metadata": {},
     "output_type": "execute_result"
    }
   ],
   "source": [
    "subject_start = df['cleaned_body'].str.startswith('subject')\n",
    "df.loc[subject_start, 'cleaned_body'] = df.loc[subject_start, 'cleaned_body'].apply(lambda x: x[len('subject'):].lstrip())\n",
    "df.head()"
   ]
  },
  {
   "cell_type": "code",
   "execution_count": null,
   "metadata": {},
   "outputs": [],
   "source": []
  },
  {
   "cell_type": "markdown",
   "metadata": {},
   "source": [
    "## Data preprocessing steps\n",
    "1. Tokenization\n",
    "2. Remove stop words\n",
    "3. Lemmatization\n",
    "-- we choose to perform lemmatization instead of stemming to identify the original meaning of the word"
   ]
  },
  {
   "cell_type": "code",
   "execution_count": null,
   "metadata": {},
   "outputs": [],
   "source": [
    "\n",
    "\n",
    "stop_words = set(stopwords.words(\"english\"))\n",
    "lemmatizer = WordNetLemmatizer()\n",
    "    \n",
    "def preprocess(text):\n",
    "    words = word_tokenize(text)\n",
    "    \n",
    "    # Remove stopwords\n",
    "    words = [word for word in words if word not in stop_words]\n",
    "    \n",
    "    # Lemmatization\n",
    "    words = [lemmatizer.lemmatize(word) for word in words]\n",
    "\n",
    "    return words\n",
    "\n",
    "df['tokens'] = df['cleaned_body'].apply(preprocess)\n"
   ]
  },
  {
   "cell_type": "code",
   "execution_count": null,
   "metadata": {},
   "outputs": [
    {
     "name": "stdout",
     "output_type": "stream",
     "text": [
      "0\n"
     ]
    }
   ],
   "source": [
    "print(subject_start.sum())\n",
    "#df.head(5)"
   ]
  },
  {
   "cell_type": "code",
   "execution_count": null,
   "metadata": {},
   "outputs": [],
   "source": [
    "df.to_csv('../data/processed/full_df.csv', index = False)"
   ]
  },
  {
   "cell_type": "markdown",
   "metadata": {},
   "source": [
    "Split into training and testing sets"
   ]
  },
  {
   "cell_type": "code",
   "execution_count": null,
   "metadata": {},
   "outputs": [],
   "source": [
    "from sklearn.model_selection import train_test_split"
   ]
  },
  {
   "cell_type": "code",
   "execution_count": null,
   "metadata": {},
   "outputs": [],
   "source": [
    "labels = df['label'].tolist()"
   ]
  },
  {
   "cell_type": "code",
   "execution_count": null,
   "metadata": {},
   "outputs": [
    {
     "data": {
      "text/plain": [
       "['naturally irresistible your corporate identity lt is really hard to recollect a company the market is full of suqgestions and the information isoverwhelminq but a good catchy logo stylish statlonery and outstanding website will make the task much easier we do not promise that havinq ordered a iogo your company will automaticaily become a world ieader it isguite ciear that without good products effective business organization and practicable aim it will be hotat nowadays market but we do promise that your marketing efforts will become much more effective here is the list of clear benefits creativeness hand made original logos specially done to reflect your distinctive company image convenience logo and stationery are provided in all formats easy to use content management system letsyou change your website content and even its structure promptness you will see logo drafts within three business days affordability your marketing break through shouldn t make gaps in your budget satisfaction guaranteed we provide unlimited amount of changes with no extra fees for you to be surethat you will love the result of this collaboration have a look at our portfolio not interested',\n",
       " 'the stock trading gunslinger fanny is merrill but muzo not colza attainder and penultimate like esmark perspicuous ramble is segovia not group try slung kansas tanzania yes chameleon or continuant clothesman no libretto is chesapeake but tight not waterway herald and hawthorn like chisel morristown superior is deoxyribonucleic not clockwork try hall incredible mcdougall yes hepburn or einsteinian earmark no sapling is boar but duane not plain palfrey and inflexible like huzzah pepperoni bedtime is nameable not attire try edt chronography optima yes pirogue or diffusion albeit no',\n",
       " 'unbelievable new homes made easy im wanting to show you this homeowner you have been pre approved for a home loan at a fixed rate this offer is being extended to you unconditionally and your credit is in no way a factor to take advantage of this limited time opportunity all we ask is that you visit our website and complete the minute post approval form look foward to hearing from you dorcas pittman',\n",
       " 'color printing special request additional information now click here click here for a printable version of our order form pdf format phone fax e mail ramsey goldengraphix com request additional information now click here click here for a printable version of our order form pdf format golden graphix printing azusa canyon rd irwindale ca this e mail message is an advertisement and or solicitation',\n",
       " 'do not have money get software cds from here software compatibility ain t it great grow old along with me the best is yet to be all tradgedies are finish d by death all comedies are ended by marriage',\n",
       " 'great nnews hello welcome to medzonline sh groundsel op we are pleased to introduce ourselves as one of the ieading online phar felicitation maceuticai shops helter v shakedown r a cosmopolitan l l blister l l bestow ag ac tosher l is coadjutor va confidant um andmanyother sav inexpiable e over total confide leisure ntiaiity worldwide s polite hlpplng ov allusion er miilion customers in countries have devitalize a nice day',\n",
       " 'here s a hot play in motion homeland security investments the terror attacks on the united states on september ol have changed the security landscape for the foreseeable future both physical and ogica security have become paramount for all industry segments especia y in the banking nationa resource and government sectors according to giga a who y owned subsidiary of forrester research woridwide demand for information security products and services is set to eclipse b by homeiand security investments is a newsietter dedicated to providing our readers with information pertaining to investment opportunities in this lucrative sector as we know events related to homeland security happen with lightning speed what we as investors can do is position ourselves in such a way as to take advantage of the current trends and be ready to capitalize on events which have yet to happen homeland security investments is here to heip our readers do just that with this in mind it is with great excitement that we present vinoble inc this stock is expected to do big things in both the near and ong terms symbol vnbl ob current price o short term target price o month target price why we believe vnbl ob will give big returns on investment at this time much of vnbl s focus is on rfid radio frequency identification technoiogy this is technology which uses tiny sensors to transmit information about a person or object wireiessly vnbl is aiready an industry pioneer in the rfid personal location technoiogy vnbl is developing a form of rfid technology which allows companies and governments to wirelessly track their assets and resources such technoiogy has huge potentia in the protection and transportation of materiais designated high risk were they to fa into the wrong hands vnbl works on integration of the two afore mentioned systems in order to create high security space in ocaies where it is deemed necessary locations which may take advantage of such systems are airports sea ports mines nuciear faciiities and more as with a stocks news drives the short term price fresh news has made vnbl a hot buy news on vnbl malibu calif business wire june oo vinoble inc otcbb vnbl news a holding company seeking to identify ong term growth opportunities in the areas of homeland security security information systems and other security services announced today that it pians to offer products and services that wiil assist in the automation of the identification and control of equipment assets toois and the related processes used in the oi gas and petrochemical industries although smail wireiessly networked rfid sensors can monitor machines and equipment to detect possible problems before they become serious they can aiso deiiver safety features within oi welis oi maybe trapped in different ayers of rock aiong with gas and water detection of specific iquids can assist equipment in operating within a specific precise opportune moment to ensure certain adverse conditions do not occur such as a well filiing with water as with other rf based technoiogy applications rfid can also provide the safe transit of materiais by only the authorized handler and limit the entry of personne to specific ocations ensuring personnel safety is essential should there be an emergency at a faciiity rfid tags wouid enabie the customer to track and evaiuate its empioyee s safety and or danger this application technology requires product and hardware that can operate in harsh and potentia y hazardous conditions but gives valuable safety to the resources and assets that are vita to the customer rfid can aiso assist the customer s supply chain by tracking oi gas and chemica products from extraction to refining to the saie at the retai evel vinoble s viewpoint as previousiy stated is that these applications are more than just a vaiuable too to the mining industry but as a protective measure of our country s natura resources and commodities against threat preservation of these fueis and resources is important to the safety of u s industry and economy the company believes that such offering service and technoiogy appiication in the oil gas and petrochemical industry wil further position vinoble in a rapidly expanding industry whiie taking advantage of access to the increasing capital and gioba spending that the company wi require for growth the company s goal is to aiso provide a much needed service at a cost manageable to even the sma est of businesses that can t afford to do without the safety of its personnel and assets in this current state of constant threat this is outstanding news the growth potential for this company is exceptional in an already hot industry vnbl ob stands out as a truiy innovative pioneer we see big things happening to this stock information within this emai contains forward looking statements within the meaning of section a of the securities act of and section b of the securities exchange act of any statements that express or involve discussions with respect to predictions expectations beliefs pians projections objectives goals assumptions or future events or performance are not statements of historica fact and may be forward ooking statements forward ooking statements are based on expectations estimates and projections at the time the statements are made that invoive a number of risks and uncertainties which couid cause actua results or events to differ materia y from those presently anticipated forward looking statements in this action may be identified through the use of words such as projects foresee expects wi anticipates estimates beiieves understands or that by statements indicating certain actions may couid or might occur as with many micro cap stocks today s company has additional risk factors worth noting those factors inciude a limited operating history the company advancing cash to reiated parties and a shareholder on an unsecured basis one vendor a related party through a majority stockhoider supplies ninety seven percent of the company s raw materiais reiiance on two customers for over fifty percent of their business and numerous related party transactions and the need to raise capital these factors and others are more fuily speiled out in the company s sec fiiings we urge you to read the filings before you invest the rocket stock report does not represent that the information contained in this message states ail materia facts or does not omit a material fact necessary to make the statements therein not misleading ail information provided within this emai pertaining to investing stocks securities must be understood as information provided and not investment advice the rocket stock report advises all readers and subscribers to seek advice from a registered professiona securities representative before deciding to trade in stocks featured within this email none of the material within this report shal be construed as any kind of investment advice or solicitation many of these companies are on the verge of bankruptcy you can lose ail your money by investing in this stock the publisher of the rocket stock report is not a registered investment advisor subscribers should not view information herein as ega tax accounting or investment advice any reference to past performance s of companies are speciaily seiected to be referenced based on the favorabie performance of these companies you wouid need perfect timing to achieve the resuits in the exampies given there can be no assurance of that happening remember as aiways past performance is never indicative of future results and a thorough due diiigence effort including a review of a company s filings shouid be completed prior to investing in compiiance with the securities act of section b the rocket stock report discioses the receipt of tweive thousand doilars from a third party gem inc not an officer director or affiliate sharehoider for the circuiation of this report gem inc has a position in the stock they wil se at any time without notice be aware of an inherent confiict of interest resuiting from such compensation due to the fact that this is a paid advertisement and we are conflicted al factua information in this report was gathered from pubiic sources inciuding but not limited to company websites sec fiiings and company press releases the rocket stock report beiieves this information to be reliabie but can make no guarantee as to its accuracy or compieteness use of the materia within this email constitutes your acceptance of these terms',\n",
       " 'save your money buy getting this thing here you have not tried cialls yet than you cannot even imagine what it is like to be a real man in bed the thing is that a great errrectlon is provided for you exactiy when you want cialis has a lot of advantages over viagra the effect iasts hours you are ready to start within just minutes you can mix it with aicohol we ship to any country get it right now',\n",
       " 'undeliverable home based business for grownups your message subject home based business for grownups sent sun jan did not reach the following recipient s tfi kpn com on mon feb the recipient name is not recognized the mts id of the original message is c us a p ptt telecom l mtpi fjt d q msexch ims kpn telecom i mtpi co a unknown recipient',\n",
       " 'save your money buy getting this thing here you have not tried cialls yet than you cannot even imagine what it is like to be a real man in bed the thing is that a great errrectlon is provided for you exactiy when you want cialis has a lot of advantages over viagra the effect lasts hours you are ready to start within just minutes you can mix it with aicohoi we ship to any country get it right now']"
      ]
     },
     "execution_count": 64,
     "metadata": {},
     "output_type": "execute_result"
    }
   ],
   "source": [
    "df_copy = df\n",
    "clean_content = df_copy['cleaned_body'].to_list(); clean_content[:10]"
   ]
  },
  {
   "cell_type": "code",
   "execution_count": null,
   "metadata": {},
   "outputs": [],
   "source": [
    "# split test and train 80-20\n",
    "train_df, test_df = train_test_split(df, test_size=0.20, random_state=4263, stratify=df_copy['label'])"
   ]
  },
  {
   "cell_type": "code",
   "execution_count": null,
   "metadata": {},
   "outputs": [],
   "source": [
    "import seaborn as sns\n",
    "import matplotlib.pyplot as plt"
   ]
  },
  {
   "cell_type": "code",
   "execution_count": null,
   "metadata": {},
   "outputs": [
    {
     "data": {
      "image/png": "[encoded data removed]",
      "text/plain": [
       "<Figure size 640x480 with 1 Axes>"
      ]
     },
     "metadata": {},
     "output_type": "display_data"
    }
   ],
   "source": [
    "count = train_df['label'].value_counts()\n",
    "labels = {0:'ham', 1:'spam'}\n",
    "\n",
    "ax = sns.barplot(x = labels, y = count).set_title(\"Class balance in training data\")"
   ]
  },
  {
   "cell_type": "code",
   "execution_count": null,
   "metadata": {},
   "outputs": [
    {
     "data": {
      "image/png": "[encoded data removed]",
      "text/plain": [
       "<Figure size 640x480 with 1 Axes>"
      ]
     },
     "metadata": {},
     "output_type": "display_data"
    }
   ],
   "source": [
    "count = test_df['label'].value_counts()\n",
    "labels = {0:'ham', 1:'spam'}\n",
    "\n",
    "ax = sns.barplot(x = labels, y = count).set_title(\"Class balance in testing data\")"
   ]
  },
  {
   "cell_type": "code",
   "execution_count": null,
   "metadata": {},
   "outputs": [],
   "source": [
    "train_df.to_csv('../data/processed/training.csv', index = False)\n",
    "test_df.to_csv('../data/processed/testing.csv', index = False)"
   ]
  }
 ],
 "metadata": {
  "kernelspec": {
   "display_name": "Python 3",
   "language": "python",
   "name": "python3"
  },
  "language_info": {
   "codemirror_mode": {
    "name": "ipython",
    "version": 3
   },
   "file_extension": ".py",
   "mimetype": "text/x-python",
   "name": "python",
   "nbconvert_exporter": "python",
   "pygments_lexer": "ipython3",
   "version": "3.12.5"
  }
 },
 "nbformat": 4,
 "nbformat_minor": 2
}
